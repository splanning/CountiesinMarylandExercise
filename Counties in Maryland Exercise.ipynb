{
 "cells": [
  {
   "cell_type": "code",
   "execution_count": 1,
   "metadata": {},
   "outputs": [],
   "source": [
    "import requests\n",
    "from bs4 import BeautifulSoup\n",
    "import numpy as np\n",
    "import pandas as pd"
   ]
  },
  {
   "cell_type": "code",
   "execution_count": 2,
   "metadata": {},
   "outputs": [],
   "source": [
    "URL = \"https://en.wikipedia.org/wiki/List_of_counties_in_Maryland#List_of_counties\""
   ]
  },
  {
   "cell_type": "code",
   "execution_count": 3,
   "metadata": {},
   "outputs": [],
   "source": [
    "response = requests.get(URL)"
   ]
  },
  {
   "cell_type": "code",
   "execution_count": 4,
   "metadata": {},
   "outputs": [
    {
     "data": {
      "text/plain": [
       "200"
      ]
     },
     "execution_count": 4,
     "metadata": {},
     "output_type": "execute_result"
    }
   ],
   "source": [
    "# Verify access\n",
    "\n",
    "response.status_code"
   ]
  },
  {
   "cell_type": "code",
   "execution_count": 5,
   "metadata": {},
   "outputs": [
    {
     "name": "stdout",
     "output_type": "stream",
     "text": [
      "<!DOCTYPE html>\n",
      "<html class=\"client-nojs\" lang=\"en\" dir=\"ltr\">\n",
      "<head>\n",
      "<meta charset=\"UTF-8\"/>\n",
      "<title>List of counties in Maryland - Wikipedia</title>\n",
      "<script>document.documentElement.className=\"client-js\";RLCONF={\"wgBreakFrames\":!1,\"wgSeparatorTransformTable\":[\"\",\"\"],\"wgDigitTransformTable\":[\"\",\"\"],\n"
     ]
    }
   ],
   "source": [
    "# Make sure we're seeing the page\n",
    "\n",
    "print(response.text[:300])"
   ]
  },
  {
   "cell_type": "code",
   "execution_count": 6,
   "metadata": {},
   "outputs": [],
   "source": [
    "raw_HTML = BeautifulSoup(response.text, 'html.parser')"
   ]
  },
  {
   "cell_type": "code",
   "execution_count": 7,
   "metadata": {},
   "outputs": [
    {
     "data": {
      "text/plain": [
       "<table class=\"wikitable sortable\" style=\"text-align: center;\">\n",
       "<caption>\n",
       "</caption>\n",
       "<tbody><tr>\n",
       "<th scope=\"col\" style=\"vertical-align: top; width: 90px;\">County<br/>\n",
       "</th>\n",
       "<th scope=\"col\" style=\"vertical-align: top; width:75px;\"><abbr title=\"Federal Information Processing Standard\">FIPS</abbr> code<sup class=\"reference\" id=\"cite_ref-FIPS_5-0\"><a href=\"#cite_note-FIPS-5\">[5]</a></sup>\n",
       "</th>\n",
       "<th scope=\"col\" style=\"vertical-align: top; width: ;\"><a href=\"/wiki/County_seat\" title=\"County seat\">County seat</a><sup class=\"reference\" id=\"cite_ref-Manual_2-1\"><a href=\"#cite_note-Manual-2\">[2]</a></sup><sup class=\"reference\" id=\"cite_ref-NACO_6-0\"><a href=\"#cite_note-NACO-6\">[6]</a></sup>\n",
       "</th>\n",
       "<th scope=\"col\" style=\"vertical-align: top; width: ;\"><abbr title=\"Established\">Est.</abbr><sup class=\"reference\" id=\"cite_ref-Manual_2-2\"><a href=\"#cite_note-Manual-2\">[2]</a></sup><sup class=\"reference\" id=\"cite_ref-NACO_6-1\"><a href=\"#cite_note-NACO-6\">[6]</a></sup>\n",
       "</th>\n",
       "<th scope=\"col\" style=\"vertical-align: top;\">Origin<sup class=\"reference\" id=\"cite_ref-Manual_2-3\"><a href=\"#cite_note-Manual-2\">[2]</a></sup>\n",
       "</th>\n",
       "<th class=\"unsortable\" scope=\"col\" style=\"vertical-align: top;\">Etymology<sup class=\"reference\" id=\"cite_ref-Manual_2-4\"><a href=\"#cite_note-Manual-2\">[2]</a></sup></th>\n",
       "<th style=\"vertical-align: top;\">Flag<br/></th>\n",
       "<th style=\"vertical-align: top;\">Seal<br/>\n",
       "</th>\n",
       "<th scope=\"col\" style=\"vertical-align: top; width: 90px;\">Population<sup class=\"reference\" id=\"cite_ref-7\"><a href=\"#cite_note-7\">[7]</a></sup>\n",
       "</th>\n",
       "<th scope=\"col\" style=\"vertical-align: top; width: 75px;\">Area<sup class=\"reference\" id=\"cite_ref-NACO_6-2\"><a href=\"#cite_note-NACO-6\">[6]</a></sup><sup class=\"reference\" id=\"cite_ref-QF_8-0\"><a href=\"#cite_note-QF-8\">[8]</a></sup>\n",
       "</th>\n",
       "<th class=\"unsortable\" scope=\"col\" style=\"vertical-align: top; width: 80px;\">Map\n",
       "</th></tr>\n",
       "<tr>\n",
       "<th scope=\"row\"><a href=\"/wiki/Allegany_County,_Maryland\" title=\"Allegany County, Maryland\">Allegany County</a>\n",
       "</th>\n",
       "<td><a class=\"external text\" href=\"http://www.census.gov/quickfacts/table/PST045215/24001,00\" rel=\"nofollow\">001</a>\n",
       "</td>\n",
       "<td><a href=\"/wiki/Cumberland,_Maryland\" title=\"Cumberland, Maryland\">Cumberland</a></td>\n",
       "<td>1789</td>\n",
       "<td>Formed from part of Washington County.</td>\n",
       "<td>From the Lenape Indian word <b>oolikhanna</b>, which means \"beautiful stream\"</td>\n",
       "<td><a class=\"image\" href=\"/wiki/File:Flag_of_Allegany_County,_Maryland.png\"><img alt=\"Flag of Allegany County, Maryland.png\" data-file-height=\"240\" data-file-width=\"400\" decoding=\"async\" height=\"75\" src=\"//upload.wikimedia.org/wikipedia/commons/thumb/0/0a/Flag_of_Allegany_County%2C_Maryland.png/125px-Flag_of_Allegany_County%2C_Maryland.png\" srcset=\"//upload.wikimedia.org/wikipedia/commons/thumb/0/0a/Flag_of_Allegany_County%2C_Maryland.png/188px-Flag_of_Allegany_County%2C_Maryland.png 1.5x, //upload.wikimedia.org/wikipedia/commons/thumb/0/0a/Flag_of_Allegany_County%2C_Maryland.png/250px-Flag_of_Allegany_County%2C_Maryland.png 2x\" width=\"125\"/></a></td>\n",
       "<td><a class=\"image\" href=\"/wiki/File:Seal_of_Allegany_County,_Maryland.png\"><img alt=\"Seal of Allegany County, Maryland.png\" data-file-height=\"1455\" data-file-width=\"1455\" decoding=\"async\" height=\"75\" src=\"//upload.wikimedia.org/wikipedia/commons/thumb/c/c6/Seal_of_Allegany_County%2C_Maryland.png/75px-Seal_of_Allegany_County%2C_Maryland.png\" srcset=\"//upload.wikimedia.org/wikipedia/commons/thumb/c/c6/Seal_of_Allegany_County%2C_Maryland.png/113px-Seal_of_Allegany_County%2C_Maryland.png 1.5x, //upload.wikimedia.org/wikipedia/commons/thumb/c/c6/Seal_of_Allegany_County%2C_Maryland.png/150px-Seal_of_Allegany_County%2C_Maryland.png 2x\" width=\"75\"/></a>\n",
       "</td>\n",
       "<td><span data-sort-value=\"7004740120000000000♠\">74,012</span>\n",
       "</td>\n",
       "<td><span data-sort-value=\"7002430000000000000♠\">430</span> sq mi<br/>(<span data-sort-value=\"7003111400000000000♠\">1,114</span> km<sup>2</sup>)</td>\n",
       "<td><a class=\"image\" href=\"/wiki/File:Map_of_Maryland_highlighting_Allegany_County.svg\" title=\"State map highlighting Allegany County\"><img alt=\"State map highlighting Allegany County\" data-file-height=\"2019\" data-file-width=\"3858\" decoding=\"async\" height=\"78\" src=\"//upload.wikimedia.org/wikipedia/commons/thumb/c/c9/Map_of_Maryland_highlighting_Allegany_County.svg/150px-Map_of_Maryland_highlighting_Allegany_County.svg.png\" srcset=\"//upload.wikimedia.org/wikipedia/commons/thumb/c/c9/Map_of_Maryland_highlighting_Allegany_County.svg/225px-Map_of_Maryland_highlighting_Allegany_County.svg.png 1.5x, //upload.wikimedia.org/wikipedia/commons/thumb/c/c9/Map_of_Maryland_highlighting_Allegany_County.svg/300px-Map_of_Maryland_highlighting_Allegany_County.svg.png 2x\" width=\"150\"/></a>\n",
       "</td></tr>\n",
       "<tr>\n",
       "<th scope=\"row\"><a href=\"/wiki/Anne_Arundel_County,_Maryland\" title=\"Anne Arundel County, Maryland\">Anne Arundel County</a>\n",
       "</th>\n",
       "<td><a class=\"external text\" href=\"http://www.census.gov/quickfacts/table/PST045215/24003,00\" rel=\"nofollow\">003</a>\n",
       "</td>\n",
       "<td><a href=\"/wiki/Annapolis,_Maryland\" title=\"Annapolis, Maryland\">Annapolis</a></td>\n",
       "<td>1650</td>\n",
       "<td>Formed from part of St. Mary's County.</td>\n",
       "<td><a href=\"/wiki/Anne_Arundell\" title=\"Anne Arundell\">Anne Arundell</a> was the maiden name of the wife of <a href=\"/wiki/Cecil_Calvert,_2nd_Baron_Baltimore\" title=\"Cecil Calvert, 2nd Baron Baltimore\">Cecil Calvert, 2nd Baron Baltimore</a>. Between 1654 and 1658 it was known as <a class=\"mw-redirect\" href=\"/wiki/Divine_Providence\" title=\"Divine Providence\">Providence</a> County by <a class=\"mw-redirect\" href=\"/wiki/Puritan\" title=\"Puritan\">Puritan</a> settlers</td>\n",
       "<td><a class=\"image\" href=\"/wiki/File:Flag_of_Anne_Arundel_County,_Maryland.svg\"><img alt=\"Flag of Anne Arundel County, Maryland.svg\" data-file-height=\"2157\" data-file-width=\"3636\" decoding=\"async\" height=\"74\" src=\"//upload.wikimedia.org/wikipedia/commons/thumb/a/a3/Flag_of_Anne_Arundel_County%2C_Maryland.svg/125px-Flag_of_Anne_Arundel_County%2C_Maryland.svg.png\" srcset=\"//upload.wikimedia.org/wikipedia/commons/thumb/a/a3/Flag_of_Anne_Arundel_County%2C_Maryland.svg/188px-Flag_of_Anne_Arundel_County%2C_Maryland.svg.png 1.5x, //upload.wikimedia.org/wikipedia/commons/thumb/a/a3/Flag_of_Anne_Arundel_County%2C_Maryland.svg/250px-Flag_of_Anne_Arundel_County%2C_Maryland.svg.png 2x\" width=\"125\"/></a></td>\n",
       "<td><a class=\"image\" href=\"/wiki/File:Seal_of_Anne_Arundel_County,_Maryland.svg\"><img alt=\"Seal of Anne Arundel County, Maryland.svg\" data-file-height=\"320\" data-file-width=\"280\" decoding=\"async\" height=\"86\" src=\"//upload.wikimedia.org/wikipedia/commons/thumb/7/71/Seal_of_Anne_Arundel_County%2C_Maryland.svg/75px-Seal_of_Anne_Arundel_County%2C_Maryland.svg.png\" srcset=\"//upload.wikimedia.org/wikipedia/commons/thumb/7/71/Seal_of_Anne_Arundel_County%2C_Maryland.svg/113px-Seal_of_Anne_Arundel_County%2C_Maryland.svg.png 1.5x, //upload.wikimedia.org/wikipedia/commons/thumb/7/71/Seal_of_Anne_Arundel_County%2C_Maryland.svg/150px-Seal_of_Anne_Arundel_County%2C_Maryland.svg.png 2x\" width=\"75\"/></a>\n",
       "</td>\n",
       "<td><span data-sort-value=\"7005550488000000000♠\">550,488</span>\n",
       "</td>\n",
       "<td><span data-sort-value=\"7002588000000000000♠\">588</span> sq mi<br/>(<span data-sort-value=\"7003152300000000000♠\">1,523</span> km<sup>2</sup>)</td>\n",
       "<td><a class=\"image\" href=\"/wiki/File:Map_of_Maryland_highlighting_Anne_Arundel_County.svg\" title=\"State map highlighting Anne Arundel County\"><img alt=\"State map highlighting Anne Arundel County\" data-file-height=\"2019\" data-file-width=\"3858\" decoding=\"async\" height=\"78\" src=\"//upload.wikimedia.org/wikipedia/commons/thumb/0/0a/Map_of_Maryland_highlighting_Anne_Arundel_County.svg/150px-Map_of_Maryland_highlighting_Anne_Arundel_County.svg.png\" srcset=\"//upload.wikimedia.org/wikipedia/commons/thumb/0/0a/Map_of_Maryland_highlighting_Anne_Arundel_County.svg/225px-Map_of_Maryland_highlighting_Anne_Arundel_County.svg.png 1.5x, //upload.wikimedia.org/wikipedia/commons/thumb/0/0a/Map_of_Maryland_highlighting_Anne_Arundel_County.svg/300px-Map_of_Maryland_highlighting_Anne_Arundel_County.svg.png 2x\" width=\"150\"/></a>\n",
       "</td></tr>\n",
       "<tr>\n",
       "<th scope=\"row\"><a href=\"/wiki/Baltimore_County,_Maryland\" title=\"Baltimore County, Maryland\">Baltimore County</a>\n",
       "</th>\n",
       "<td><a class=\"external text\" href=\"http://www.census.gov/quickfacts/table/PST045215/24005,00\" rel=\"nofollow\">005</a>\n",
       "</td>\n",
       "<td><a href=\"/wiki/Towson,_Maryland\" title=\"Towson, Maryland\">Towson</a></td>\n",
       "<td>1659</td>\n",
       "<td>Formed from unorganized territory</td>\n",
       "<td><a href=\"/wiki/Cecil_Calvert,_2nd_Baron_Baltimore\" title=\"Cecil Calvert, 2nd Baron Baltimore\">Cecil Calvert, 2nd Baron Baltimore</a>, first proprietor of the <a href=\"/wiki/Province_of_Maryland\" title=\"Province of Maryland\">Maryland colony</a></td>\n",
       "<td><a class=\"image\" href=\"/wiki/File:Flag_of_Baltimore_County,_Maryland.svg\"><img alt=\"Flag of Baltimore County, Maryland.svg\" data-file-height=\"1081\" data-file-width=\"1648\" decoding=\"async\" height=\"82\" src=\"//upload.wikimedia.org/wikipedia/commons/thumb/a/a4/Flag_of_Baltimore_County%2C_Maryland.svg/125px-Flag_of_Baltimore_County%2C_Maryland.svg.png\" srcset=\"//upload.wikimedia.org/wikipedia/commons/thumb/a/a4/Flag_of_Baltimore_County%2C_Maryland.svg/188px-Flag_of_Baltimore_County%2C_Maryland.svg.png 1.5x, //upload.wikimedia.org/wikipedia/commons/thumb/a/a4/Flag_of_Baltimore_County%2C_Maryland.svg/250px-Flag_of_Baltimore_County%2C_Maryland.svg.png 2x\" width=\"125\"/></a></td>\n",
       "<td><a class=\"image\" href=\"/wiki/File:Seal_of_Baltimore_County,_Maryland.svg\"><img alt=\"Seal of Baltimore County, Maryland.svg\" data-file-height=\"1024\" data-file-width=\"1024\" decoding=\"async\" height=\"75\" src=\"//upload.wikimedia.org/wikipedia/commons/thumb/b/b5/Seal_of_Baltimore_County%2C_Maryland.svg/75px-Seal_of_Baltimore_County%2C_Maryland.svg.png\" srcset=\"//upload.wikimedia.org/wikipedia/commons/thumb/b/b5/Seal_of_Baltimore_County%2C_Maryland.svg/113px-Seal_of_Baltimore_County%2C_Maryland.svg.png 1.5x, //upload.wikimedia.org/wikipedia/commons/thumb/b/b5/Seal_of_Baltimore_County%2C_Maryland.svg/150px-Seal_of_Baltimore_County%2C_Maryland.svg.png 2x\" width=\"75\"/></a>\n",
       "</td>\n",
       "<td><span data-sort-value=\"7005817455000000000♠\">817,455</span>\n",
       "</td>\n",
       "<td><span data-sort-value=\"7002682000000000000♠\">682</span> sq mi<br/>(<span data-sort-value=\"7003176600000000000♠\">1,766</span> km<sup>2</sup>)</td>\n",
       "<td><a class=\"image\" href=\"/wiki/File:Map_of_Maryland_highlighting_Baltimore_County.svg\" title=\"State map highlighting Baltimore County\"><img alt=\"State map highlighting Baltimore County\" data-file-height=\"2019\" data-file-width=\"3858\" decoding=\"async\" height=\"78\" src=\"//upload.wikimedia.org/wikipedia/commons/thumb/1/1a/Map_of_Maryland_highlighting_Baltimore_County.svg/150px-Map_of_Maryland_highlighting_Baltimore_County.svg.png\" srcset=\"//upload.wikimedia.org/wikipedia/commons/thumb/1/1a/Map_of_Maryland_highlighting_Baltimore_County.svg/225px-Map_of_Maryland_highlighting_Baltimore_County.svg.png 1.5x, //upload.wikimedia.org/wikipedia/commons/thumb/1/1a/Map_of_Maryland_highlighting_Baltimore_County.svg/300px-Map_of_Maryland_highlighting_Baltimore_County.svg.png 2x\" width=\"150\"/></a>\n",
       "</td></tr>\n",
       "<tr>\n",
       "<th scope=\"row\"><a class=\"mw-redirect\" href=\"/wiki/Baltimore_City,_Maryland\" title=\"Baltimore City, Maryland\">Baltimore City</a>\n",
       "</th>\n",
       "<td><a class=\"external text\" href=\"http://www.census.gov/quickfacts/table/PST045215/24510,00\" rel=\"nofollow\">510</a>\n",
       "</td>\n",
       "<td><a class=\"mw-redirect\" href=\"/wiki/Baltimore_City,_Maryland\" title=\"Baltimore City, Maryland\">Baltimore City</a></td>\n",
       "<td>1851</td>\n",
       "<td>Founded in 1729. Detached in 1851 from Baltimore County</td>\n",
       "<td><a href=\"/wiki/Cecil_Calvert,_2nd_Baron_Baltimore\" title=\"Cecil Calvert, 2nd Baron Baltimore\">Cecil Calvert, 2nd Baron Baltimore</a>, first proprietor of the <a href=\"/wiki/Province_of_Maryland\" title=\"Province of Maryland\">Maryland colony</a></td>\n",
       "<td><a class=\"image\" href=\"/wiki/File:Flag_of_Baltimore,_Maryland.svg\"><img alt=\"Flag of Baltimore, Maryland.svg\" data-file-height=\"533\" data-file-width=\"800\" decoding=\"async\" height=\"83\" src=\"//upload.wikimedia.org/wikipedia/commons/thumb/7/77/Flag_of_Baltimore%2C_Maryland.svg/125px-Flag_of_Baltimore%2C_Maryland.svg.png\" srcset=\"//upload.wikimedia.org/wikipedia/commons/thumb/7/77/Flag_of_Baltimore%2C_Maryland.svg/188px-Flag_of_Baltimore%2C_Maryland.svg.png 1.5x, //upload.wikimedia.org/wikipedia/commons/thumb/7/77/Flag_of_Baltimore%2C_Maryland.svg/250px-Flag_of_Baltimore%2C_Maryland.svg.png 2x\" width=\"125\"/></a></td>\n",
       "<td><a class=\"image\" href=\"/wiki/File:Seal_of_Baltimore,_Maryland.png\"><img alt=\"Seal of Baltimore, Maryland.png\" data-file-height=\"290\" data-file-width=\"214\" decoding=\"async\" height=\"102\" src=\"//upload.wikimedia.org/wikipedia/commons/thumb/1/16/Seal_of_Baltimore%2C_Maryland.png/75px-Seal_of_Baltimore%2C_Maryland.png\" srcset=\"//upload.wikimedia.org/wikipedia/commons/thumb/1/16/Seal_of_Baltimore%2C_Maryland.png/113px-Seal_of_Baltimore%2C_Maryland.png 1.5x, //upload.wikimedia.org/wikipedia/commons/thumb/1/16/Seal_of_Baltimore%2C_Maryland.png/150px-Seal_of_Baltimore%2C_Maryland.png 2x\" width=\"75\"/></a>\n",
       "</td>\n",
       "<td><span data-sort-value=\"7005621342000000000♠\">621,342</span>\n",
       "</td>\n",
       "<td><span data-sort-value=\"7001920000000000000♠\">92</span> sq mi<br/>(<span data-sort-value=\"7002238000000000000♠\">238</span> km<sup>2</sup>)</td>\n",
       "<td><a class=\"image\" href=\"/wiki/File:Map_of_Maryland_highlighting_Baltimore_City.svg\" title=\"State map highlighting Baltimore City\"><img alt=\"State map highlighting Baltimore City\" data-file-height=\"2019\" data-file-width=\"3858\" decoding=\"async\" height=\"78\" src=\"//upload.wikimedia.org/wikipedia/commons/thumb/8/87/Map_of_Maryland_highlighting_Baltimore_City.svg/150px-Map_of_Maryland_highlighting_Baltimore_City.svg.png\" srcset=\"//upload.wikimedia.org/wikipedia/commons/thumb/8/87/Map_of_Maryland_highlighting_Baltimore_City.svg/225px-Map_of_Maryland_highlighting_Baltimore_City.svg.png 1.5x, //upload.wikimedia.org/wikipedia/commons/thumb/8/87/Map_of_Maryland_highlighting_Baltimore_City.svg/300px-Map_of_Maryland_highlighting_Baltimore_City.svg.png 2x\" width=\"150\"/></a>\n",
       "</td></tr>\n",
       "<tr>\n",
       "<th scope=\"row\"><a href=\"/wiki/Calvert_County,_Maryland\" title=\"Calvert County, Maryland\">Calvert County</a>\n",
       "</th>\n",
       "<td><a class=\"external text\" href=\"http://www.census.gov/quickfacts/table/PST045215/24009,00\" rel=\"nofollow\">009</a>\n",
       "</td>\n",
       "<td><a href=\"/wiki/Prince_Frederick,_Maryland\" title=\"Prince Frederick, Maryland\">Prince Frederick</a></td>\n",
       "<td>1654</td>\n",
       "<td>Formed as Patuxent County from unorganized territory. Renamed Calvert County in 1658</td>\n",
       "<td>The <a href=\"/wiki/Baron_Baltimore\" title=\"Baron Baltimore\">Calvert family</a>; prior to 1658 it was called Patuxent County, after the Patuxent Indians, a branch of the <a href=\"/wiki/Algonquian_peoples\" title=\"Algonquian peoples\">Algonquians</a></td>\n",
       "<td><a class=\"image\" href=\"/wiki/File:Flag_of_Calvert_County,_Maryland.svg\"><img alt=\"Flag of Calvert County, Maryland.svg\" data-file-height=\"721\" data-file-width=\"1052\" decoding=\"async\" height=\"86\" src=\"//upload.wikimedia.org/wikipedia/commons/thumb/e/ed/Flag_of_Calvert_County%2C_Maryland.svg/125px-Flag_of_Calvert_County%2C_Maryland.svg.png\" srcset=\"//upload.wikimedia.org/wikipedia/commons/thumb/e/ed/Flag_of_Calvert_County%2C_Maryland.svg/188px-Flag_of_Calvert_County%2C_Maryland.svg.png 1.5x, //upload.wikimedia.org/wikipedia/commons/thumb/e/ed/Flag_of_Calvert_County%2C_Maryland.svg/250px-Flag_of_Calvert_County%2C_Maryland.svg.png 2x\" width=\"125\"/></a></td>\n",
       "<td><a class=\"image\" href=\"/wiki/File:Seal_of_Calvert_County,_Maryland.png\"><img alt=\"Seal of Calvert County, Maryland.png\" data-file-height=\"214\" data-file-width=\"214\" decoding=\"async\" height=\"75\" src=\"//upload.wikimedia.org/wikipedia/commons/thumb/f/fe/Seal_of_Calvert_County%2C_Maryland.png/75px-Seal_of_Calvert_County%2C_Maryland.png\" srcset=\"//upload.wikimedia.org/wikipedia/commons/thumb/f/fe/Seal_of_Calvert_County%2C_Maryland.png/113px-Seal_of_Calvert_County%2C_Maryland.png 1.5x, //upload.wikimedia.org/wikipedia/commons/thumb/f/fe/Seal_of_Calvert_County%2C_Maryland.png/150px-Seal_of_Calvert_County%2C_Maryland.png 2x\" width=\"75\"/></a>\n",
       "</td>\n",
       "<td><span data-sort-value=\"7004896280000000000♠\">89,628</span>\n",
       "</td>\n",
       "<td><span data-sort-value=\"7002345000000000000♠\">345</span> sq mi<br/>(<span data-sort-value=\"7002894000000000000♠\">894</span> km<sup>2</sup>)</td>\n",
       "<td><a class=\"image\" href=\"/wiki/File:Map_of_Maryland_highlighting_Calvert_County.svg\" title=\"State map highlighting Calvert County\"><img alt=\"State map highlighting Calvert County\" data-file-height=\"2019\" data-file-width=\"3858\" decoding=\"async\" height=\"78\" src=\"//upload.wikimedia.org/wikipedia/commons/thumb/c/cf/Map_of_Maryland_highlighting_Calvert_County.svg/150px-Map_of_Maryland_highlighting_Calvert_County.svg.png\" srcset=\"//upload.wikimedia.org/wikipedia/commons/thumb/c/cf/Map_of_Maryland_highlighting_Calvert_County.svg/225px-Map_of_Maryland_highlighting_Calvert_County.svg.png 1.5x, //upload.wikimedia.org/wikipedia/commons/thumb/c/cf/Map_of_Maryland_highlighting_Calvert_County.svg/300px-Map_of_Maryland_highlighting_Calvert_County.svg.png 2x\" width=\"150\"/></a>\n",
       "</td></tr>\n",
       "<tr>\n",
       "<th scope=\"row\"><a href=\"/wiki/Caroline_County,_Maryland\" title=\"Caroline County, Maryland\">Caroline County</a>\n",
       "</th>\n",
       "<td><a class=\"external text\" href=\"http://www.census.gov/quickfacts/table/PST045215/24011,00\" rel=\"nofollow\">011</a>\n",
       "</td>\n",
       "<td><a href=\"/wiki/Denton,_Maryland\" title=\"Denton, Maryland\">Denton</a></td>\n",
       "<td>1773</td>\n",
       "<td>From parts of Dorchester County and Queen Anne's County</td>\n",
       "<td>Lady Caroline Eden, daughter of <a href=\"/wiki/Charles_Calvert,_5th_Baron_Baltimore\" title=\"Charles Calvert, 5th Baron Baltimore\">Charles Calvert, 5th Baron Baltimore</a></td>\n",
       "<td><a class=\"image\" href=\"/wiki/File:Flag_of_Caroline_County,_Maryland.svg\"><img alt=\"Flag of Caroline County, Maryland.svg\" data-file-height=\"216\" data-file-width=\"360\" decoding=\"async\" height=\"75\" src=\"//upload.wikimedia.org/wikipedia/commons/thumb/1/1a/Flag_of_Caroline_County%2C_Maryland.svg/125px-Flag_of_Caroline_County%2C_Maryland.svg.png\" srcset=\"//upload.wikimedia.org/wikipedia/commons/thumb/1/1a/Flag_of_Caroline_County%2C_Maryland.svg/188px-Flag_of_Caroline_County%2C_Maryland.svg.png 1.5x, //upload.wikimedia.org/wikipedia/commons/thumb/1/1a/Flag_of_Caroline_County%2C_Maryland.svg/250px-Flag_of_Caroline_County%2C_Maryland.svg.png 2x\" width=\"125\"/></a></td>\n",
       "<td><a class=\"image\" href=\"/wiki/File:Seal_of_Caroline_County,_Maryland.svg\"><img alt=\"Seal of Caroline County, Maryland.svg\" data-file-height=\"1437\" data-file-width=\"1070\" decoding=\"async\" height=\"101\" src=\"//upload.wikimedia.org/wikipedia/commons/thumb/8/83/Seal_of_Caroline_County%2C_Maryland.svg/75px-Seal_of_Caroline_County%2C_Maryland.svg.png\" srcset=\"//upload.wikimedia.org/wikipedia/commons/thumb/8/83/Seal_of_Caroline_County%2C_Maryland.svg/113px-Seal_of_Caroline_County%2C_Maryland.svg.png 1.5x, //upload.wikimedia.org/wikipedia/commons/thumb/8/83/Seal_of_Caroline_County%2C_Maryland.svg/150px-Seal_of_Caroline_County%2C_Maryland.svg.png 2x\" width=\"75\"/></a>\n",
       "</td>\n",
       "<td><span data-sort-value=\"7004327180000000000♠\">32,718</span>\n",
       "</td>\n",
       "<td><span data-sort-value=\"7002326000000000000♠\">326</span> sq mi<br/>(<span data-sort-value=\"7002844000000000000♠\">844</span> km<sup>2</sup>)</td>\n",
       "<td><a class=\"image\" href=\"/wiki/File:Map_of_Maryland_highlighting_Caroline_County.svg\" title=\"State map highlighting Caroline County\"><img alt=\"State map highlighting Caroline County\" data-file-height=\"2019\" data-file-width=\"3858\" decoding=\"async\" height=\"78\" src=\"//upload.wikimedia.org/wikipedia/commons/thumb/5/59/Map_of_Maryland_highlighting_Caroline_County.svg/150px-Map_of_Maryland_highlighting_Caroline_County.svg.png\" srcset=\"//upload.wikimedia.org/wikipedia/commons/thumb/5/59/Map_of_Maryland_highlighting_Caroline_County.svg/225px-Map_of_Maryland_highlighting_Caroline_County.svg.png 1.5x, //upload.wikimedia.org/wikipedia/commons/thumb/5/59/Map_of_Maryland_highlighting_Caroline_County.svg/300px-Map_of_Maryland_highlighting_Caroline_County.svg.png 2x\" width=\"150\"/></a>\n",
       "</td></tr>\n",
       "<tr>\n",
       "<th scope=\"row\"><a href=\"/wiki/Carroll_County,_Maryland\" title=\"Carroll County, Maryland\">Carroll County</a>\n",
       "</th>\n",
       "<td><a class=\"external text\" href=\"http://www.census.gov/quickfacts/table/PST045215/24013,00\" rel=\"nofollow\">013</a>\n",
       "</td>\n",
       "<td><a href=\"/wiki/Westminster,_Maryland\" title=\"Westminster, Maryland\">Westminster</a></td>\n",
       "<td>1837</td>\n",
       "<td>From parts of Baltimore County and Frederick County</td>\n",
       "<td><a href=\"/wiki/Charles_Carroll_of_Carrollton\" title=\"Charles Carroll of Carrollton\">Charles Carroll of Carrollton</a>, a representative to the <a href=\"/wiki/Continental_Congress\" title=\"Continental Congress\">Continental Congress</a> and signatory of the <a href=\"/wiki/United_States_Declaration_of_Independence\" title=\"United States Declaration of Independence\">Declaration of Independence</a></td>\n",
       "<td><a class=\"image\" href=\"/wiki/File:Flag_of_Carroll_County,_Maryland.png\"><img alt=\"Flag of Carroll County, Maryland.png\" data-file-height=\"324\" data-file-width=\"486\" decoding=\"async\" height=\"83\" src=\"//upload.wikimedia.org/wikipedia/commons/thumb/3/30/Flag_of_Carroll_County%2C_Maryland.png/125px-Flag_of_Carroll_County%2C_Maryland.png\" srcset=\"//upload.wikimedia.org/wikipedia/commons/thumb/3/30/Flag_of_Carroll_County%2C_Maryland.png/188px-Flag_of_Carroll_County%2C_Maryland.png 1.5x, //upload.wikimedia.org/wikipedia/commons/thumb/3/30/Flag_of_Carroll_County%2C_Maryland.png/250px-Flag_of_Carroll_County%2C_Maryland.png 2x\" width=\"125\"/></a></td>\n",
       "<td><a class=\"image\" href=\"/wiki/File:Seal_of_Carroll_County,_Maryland.png\"><img alt=\"Seal of Carroll County, Maryland.png\" data-file-height=\"269\" data-file-width=\"268\" decoding=\"async\" height=\"75\" src=\"//upload.wikimedia.org/wikipedia/commons/thumb/4/4f/Seal_of_Carroll_County%2C_Maryland.png/75px-Seal_of_Carroll_County%2C_Maryland.png\" srcset=\"//upload.wikimedia.org/wikipedia/commons/thumb/4/4f/Seal_of_Carroll_County%2C_Maryland.png/113px-Seal_of_Carroll_County%2C_Maryland.png 1.5x, //upload.wikimedia.org/wikipedia/commons/thumb/4/4f/Seal_of_Carroll_County%2C_Maryland.png/150px-Seal_of_Carroll_County%2C_Maryland.png 2x\" width=\"75\"/></a>\n",
       "</td>\n",
       "<td><span data-sort-value=\"7005167217000000000♠\">167,217</span>\n",
       "</td>\n",
       "<td><span data-sort-value=\"7002452000000000000♠\">452</span> sq mi<br/>(<span data-sort-value=\"7003117100000000000♠\">1,171</span> km<sup>2</sup>)</td>\n",
       "<td><a class=\"image\" href=\"/wiki/File:Map_of_Maryland_highlighting_Carroll_County.svg\" title=\"State map highlighting Carroll County\"><img alt=\"State map highlighting Carroll County\" data-file-height=\"2019\" data-file-width=\"3858\" decoding=\"async\" height=\"78\" src=\"//upload.wikimedia.org/wikipedia/commons/thumb/8/82/Map_of_Maryland_highlighting_Carroll_County.svg/150px-Map_of_Maryland_highlighting_Carroll_County.svg.png\" srcset=\"//upload.wikimedia.org/wikipedia/commons/thumb/8/82/Map_of_Maryland_highlighting_Carroll_County.svg/225px-Map_of_Maryland_highlighting_Carroll_County.svg.png 1.5x, //upload.wikimedia.org/wikipedia/commons/thumb/8/82/Map_of_Maryland_highlighting_Carroll_County.svg/300px-Map_of_Maryland_highlighting_Carroll_County.svg.png 2x\" width=\"150\"/></a>\n",
       "</td></tr>\n",
       "<tr>\n",
       "<th scope=\"row\"><a href=\"/wiki/Cecil_County,_Maryland\" title=\"Cecil County, Maryland\">Cecil County</a>\n",
       "</th>\n",
       "<td><a class=\"external text\" href=\"http://www.census.gov/quickfacts/table/PST045215/24015,00\" rel=\"nofollow\">015</a>\n",
       "</td>\n",
       "<td><a href=\"/wiki/Elkton,_Maryland\" title=\"Elkton, Maryland\">Elkton</a></td>\n",
       "<td>1672</td>\n",
       "<td>From parts of Baltimore County and Kent County</td>\n",
       "<td>Cecil is an Anglicized form of the first name of <a href=\"/wiki/Cecil_Calvert,_2nd_Baron_Baltimore\" title=\"Cecil Calvert, 2nd Baron Baltimore\">Cecil Calvert, 2nd Baron Baltimore</a></td>\n",
       "<td><a class=\"image\" href=\"/wiki/File:Flag_of_Cecil_County,_Maryland.gif\"><img alt=\"Flag of Cecil County, Maryland.gif\" data-file-height=\"240\" data-file-width=\"400\" decoding=\"async\" height=\"75\" src=\"//upload.wikimedia.org/wikipedia/commons/thumb/0/03/Flag_of_Cecil_County%2C_Maryland.gif/125px-Flag_of_Cecil_County%2C_Maryland.gif\" srcset=\"//upload.wikimedia.org/wikipedia/commons/thumb/0/03/Flag_of_Cecil_County%2C_Maryland.gif/188px-Flag_of_Cecil_County%2C_Maryland.gif 1.5x, //upload.wikimedia.org/wikipedia/commons/thumb/0/03/Flag_of_Cecil_County%2C_Maryland.gif/250px-Flag_of_Cecil_County%2C_Maryland.gif 2x\" width=\"125\"/></a></td>\n",
       "<td><a class=\"image\" href=\"/wiki/File:Seal_of_Cecil_County,_Maryland.png\"><img alt=\"Seal of Cecil County, Maryland.png\" data-file-height=\"1904\" data-file-width=\"1901\" decoding=\"async\" height=\"75\" src=\"//upload.wikimedia.org/wikipedia/commons/thumb/d/d1/Seal_of_Cecil_County%2C_Maryland.png/75px-Seal_of_Cecil_County%2C_Maryland.png\" srcset=\"//upload.wikimedia.org/wikipedia/commons/thumb/d/d1/Seal_of_Cecil_County%2C_Maryland.png/113px-Seal_of_Cecil_County%2C_Maryland.png 1.5x, //upload.wikimedia.org/wikipedia/commons/thumb/d/d1/Seal_of_Cecil_County%2C_Maryland.png/150px-Seal_of_Cecil_County%2C_Maryland.png 2x\" width=\"75\"/></a>\n",
       "</td>\n",
       "<td><span data-sort-value=\"7005101696000000000♠\">101,696</span>\n",
       "</td>\n",
       "<td><span data-sort-value=\"7002418000000000000♠\">418</span> sq mi<br/>(<span data-sort-value=\"7003108300000000000♠\">1,083</span> km<sup>2</sup>)</td>\n",
       "<td><a class=\"image\" href=\"/wiki/File:Map_of_Maryland_highlighting_Cecil_County.svg\" title=\"State map highlighting Cecil County\"><img alt=\"State map highlighting Cecil County\" data-file-height=\"2019\" data-file-width=\"3858\" decoding=\"async\" height=\"78\" src=\"//upload.wikimedia.org/wikipedia/commons/thumb/6/6e/Map_of_Maryland_highlighting_Cecil_County.svg/150px-Map_of_Maryland_highlighting_Cecil_County.svg.png\" srcset=\"//upload.wikimedia.org/wikipedia/commons/thumb/6/6e/Map_of_Maryland_highlighting_Cecil_County.svg/225px-Map_of_Maryland_highlighting_Cecil_County.svg.png 1.5x, //upload.wikimedia.org/wikipedia/commons/thumb/6/6e/Map_of_Maryland_highlighting_Cecil_County.svg/300px-Map_of_Maryland_highlighting_Cecil_County.svg.png 2x\" width=\"150\"/></a>\n",
       "</td></tr>\n",
       "<tr>\n",
       "<th scope=\"row\"><a href=\"/wiki/Charles_County,_Maryland\" title=\"Charles County, Maryland\">Charles County</a>\n",
       "</th>\n",
       "<td><a class=\"external text\" href=\"http://www.census.gov/quickfacts/table/PST045215/24017,00\" rel=\"nofollow\">017</a>\n",
       "</td>\n",
       "<td><a href=\"/wiki/La_Plata,_Maryland\" title=\"La Plata, Maryland\">La Plata</a></td>\n",
       "<td>1658</td>\n",
       "<td>From unorganized territory</td>\n",
       "<td><a href=\"/wiki/Charles_Calvert,_3rd_Baron_Baltimore\" title=\"Charles Calvert, 3rd Baron Baltimore\">Charles Calvert, 3rd Baron Baltimore</a>, second proprietor of the <a href=\"/wiki/Province_of_Maryland\" title=\"Province of Maryland\">Maryland colony</a></td>\n",
       "<td><a class=\"image\" href=\"/wiki/File:Flag_of_Charles_County,_Maryland.png\"><img alt=\"Flag of Charles County, Maryland.png\" data-file-height=\"216\" data-file-width=\"410\" decoding=\"async\" height=\"66\" src=\"//upload.wikimedia.org/wikipedia/commons/thumb/6/65/Flag_of_Charles_County%2C_Maryland.png/125px-Flag_of_Charles_County%2C_Maryland.png\" srcset=\"//upload.wikimedia.org/wikipedia/commons/thumb/6/65/Flag_of_Charles_County%2C_Maryland.png/188px-Flag_of_Charles_County%2C_Maryland.png 1.5x, //upload.wikimedia.org/wikipedia/commons/thumb/6/65/Flag_of_Charles_County%2C_Maryland.png/250px-Flag_of_Charles_County%2C_Maryland.png 2x\" width=\"125\"/></a></td>\n",
       "<td><a class=\"image\" href=\"/wiki/File:Seal_of_Charles_County,_Maryland.svg\"><img alt=\"Seal of Charles County, Maryland.svg\" data-file-height=\"358\" data-file-width=\"267\" decoding=\"async\" height=\"101\" src=\"//upload.wikimedia.org/wikipedia/commons/thumb/f/f9/Seal_of_Charles_County%2C_Maryland.svg/75px-Seal_of_Charles_County%2C_Maryland.svg.png\" srcset=\"//upload.wikimedia.org/wikipedia/commons/thumb/f/f9/Seal_of_Charles_County%2C_Maryland.svg/113px-Seal_of_Charles_County%2C_Maryland.svg.png 1.5x, //upload.wikimedia.org/wikipedia/commons/thumb/f/f9/Seal_of_Charles_County%2C_Maryland.svg/150px-Seal_of_Charles_County%2C_Maryland.svg.png 2x\" width=\"75\"/></a>\n",
       "</td>\n",
       "<td><span data-sort-value=\"7005150592000000000♠\">150,592</span>\n",
       "</td>\n",
       "<td><span data-sort-value=\"7002643000000000000♠\">643</span> sq mi<br/>(<span data-sort-value=\"7003166500000000000♠\">1,665</span> km<sup>2</sup>)</td>\n",
       "<td><a class=\"image\" href=\"/wiki/File:Map_of_Maryland_highlighting_Charles_County.svg\" title=\"State map highlighting Charles County\"><img alt=\"State map highlighting Charles County\" data-file-height=\"2019\" data-file-width=\"3858\" decoding=\"async\" height=\"78\" src=\"//upload.wikimedia.org/wikipedia/commons/thumb/6/62/Map_of_Maryland_highlighting_Charles_County.svg/150px-Map_of_Maryland_highlighting_Charles_County.svg.png\" srcset=\"//upload.wikimedia.org/wikipedia/commons/thumb/6/62/Map_of_Maryland_highlighting_Charles_County.svg/225px-Map_of_Maryland_highlighting_Charles_County.svg.png 1.5x, //upload.wikimedia.org/wikipedia/commons/thumb/6/62/Map_of_Maryland_highlighting_Charles_County.svg/300px-Map_of_Maryland_highlighting_Charles_County.svg.png 2x\" width=\"150\"/></a>\n",
       "</td></tr>\n",
       "<tr>\n",
       "<th scope=\"row\"><a href=\"/wiki/Dorchester_County,_Maryland\" title=\"Dorchester County, Maryland\">Dorchester County</a>\n",
       "</th>\n",
       "<td><a class=\"external text\" href=\"http://www.census.gov/quickfacts/table/PST045215/24019,00\" rel=\"nofollow\">019</a>\n",
       "</td>\n",
       "<td><a href=\"/wiki/Cambridge,_Maryland\" title=\"Cambridge, Maryland\">Cambridge</a></td>\n",
       "<td>1668</td>\n",
       "<td>From unorganized territory</td>\n",
       "<td><a href=\"/wiki/Dorchester,_Dorset\" title=\"Dorchester, Dorset\">Dorchester</a> in <a href=\"/wiki/Dorset\" title=\"Dorset\">Dorset</a>, England; the <a href=\"/wiki/Earl_of_Dorset\" title=\"Earl of Dorset\">Earl of Dorset</a> was a friend of the Calvert family</td>\n",
       "<td><a class=\"image\" href=\"/wiki/File:Flag_of_Dochester_County,_Maryland.png\"><img alt=\"Flag of Dochester County, Maryland.png\" data-file-height=\"216\" data-file-width=\"265\" decoding=\"async\" height=\"102\" src=\"//upload.wikimedia.org/wikipedia/commons/thumb/4/40/Flag_of_Dochester_County%2C_Maryland.png/125px-Flag_of_Dochester_County%2C_Maryland.png\" srcset=\"//upload.wikimedia.org/wikipedia/commons/thumb/4/40/Flag_of_Dochester_County%2C_Maryland.png/188px-Flag_of_Dochester_County%2C_Maryland.png 1.5x, //upload.wikimedia.org/wikipedia/commons/thumb/4/40/Flag_of_Dochester_County%2C_Maryland.png/250px-Flag_of_Dochester_County%2C_Maryland.png 2x\" width=\"125\"/></a></td>\n",
       "<td><a class=\"image\" href=\"/wiki/File:Seal_of_Dorchester_County,_Maryland.png\"><img alt=\"Seal of Dorchester County, Maryland.png\" data-file-height=\"250\" data-file-width=\"249\" decoding=\"async\" height=\"75\" src=\"//upload.wikimedia.org/wikipedia/commons/thumb/6/60/Seal_of_Dorchester_County%2C_Maryland.png/75px-Seal_of_Dorchester_County%2C_Maryland.png\" srcset=\"//upload.wikimedia.org/wikipedia/commons/thumb/6/60/Seal_of_Dorchester_County%2C_Maryland.png/113px-Seal_of_Dorchester_County%2C_Maryland.png 1.5x, //upload.wikimedia.org/wikipedia/commons/thumb/6/60/Seal_of_Dorchester_County%2C_Maryland.png/150px-Seal_of_Dorchester_County%2C_Maryland.png 2x\" width=\"75\"/></a>\n",
       "</td>\n",
       "<td><span data-sort-value=\"7004325510000000000♠\">32,551</span>\n",
       "</td>\n",
       "<td><span data-sort-value=\"7002540000000000000♠\">540</span> sq mi<br/>(<span data-sort-value=\"7003139900000000000♠\">1,399</span> km<sup>2</sup>)</td>\n",
       "<td><a class=\"image\" href=\"/wiki/File:Map_of_Maryland_highlighting_Dorchester_County.svg\" title=\"State map highlighting Dorchester County\"><img alt=\"State map highlighting Dorchester County\" data-file-height=\"2019\" data-file-width=\"3858\" decoding=\"async\" height=\"78\" src=\"//upload.wikimedia.org/wikipedia/commons/thumb/6/62/Map_of_Maryland_highlighting_Dorchester_County.svg/150px-Map_of_Maryland_highlighting_Dorchester_County.svg.png\" srcset=\"//upload.wikimedia.org/wikipedia/commons/thumb/6/62/Map_of_Maryland_highlighting_Dorchester_County.svg/225px-Map_of_Maryland_highlighting_Dorchester_County.svg.png 1.5x, //upload.wikimedia.org/wikipedia/commons/thumb/6/62/Map_of_Maryland_highlighting_Dorchester_County.svg/300px-Map_of_Maryland_highlighting_Dorchester_County.svg.png 2x\" width=\"150\"/></a>\n",
       "</td></tr>\n",
       "<tr>\n",
       "<th scope=\"row\"><a href=\"/wiki/Frederick_County,_Maryland\" title=\"Frederick County, Maryland\">Frederick County</a>\n",
       "</th>\n",
       "<td><a class=\"external text\" href=\"http://www.census.gov/quickfacts/table/PST045215/24021,00\" rel=\"nofollow\">021</a>\n",
       "</td>\n",
       "<td><a href=\"/wiki/Frederick,_Maryland\" title=\"Frederick, Maryland\">Frederick</a></td>\n",
       "<td>1748</td>\n",
       "<td>From part of Prince George's County</td>\n",
       "<td><a href=\"/wiki/Frederick_Calvert,_6th_Baron_Baltimore\" title=\"Frederick Calvert, 6th Baron Baltimore\">Frederick Calvert, 6th Baron Baltimore</a>, final proprietor of the <a href=\"/wiki/Province_of_Maryland\" title=\"Province of Maryland\">Maryland colony</a></td>\n",
       "<td><a class=\"image\" href=\"/wiki/File:Flag_of_Frederick_County,_Maryland.png\"><img alt=\"Flag of Frederick County, Maryland.png\" data-file-height=\"240\" data-file-width=\"400\" decoding=\"async\" height=\"75\" src=\"//upload.wikimedia.org/wikipedia/commons/thumb/e/e8/Flag_of_Frederick_County%2C_Maryland.png/125px-Flag_of_Frederick_County%2C_Maryland.png\" srcset=\"//upload.wikimedia.org/wikipedia/commons/thumb/e/e8/Flag_of_Frederick_County%2C_Maryland.png/188px-Flag_of_Frederick_County%2C_Maryland.png 1.5x, //upload.wikimedia.org/wikipedia/commons/thumb/e/e8/Flag_of_Frederick_County%2C_Maryland.png/250px-Flag_of_Frederick_County%2C_Maryland.png 2x\" width=\"125\"/></a></td>\n",
       "<td><a class=\"image\" href=\"/wiki/File:Seal_of_Frederick_County,_Maryland.png\"><img alt=\"Seal of Frederick County, Maryland.png\" data-file-height=\"256\" data-file-width=\"256\" decoding=\"async\" height=\"75\" src=\"//upload.wikimedia.org/wikipedia/commons/thumb/9/99/Seal_of_Frederick_County%2C_Maryland.png/75px-Seal_of_Frederick_County%2C_Maryland.png\" srcset=\"//upload.wikimedia.org/wikipedia/commons/thumb/9/99/Seal_of_Frederick_County%2C_Maryland.png/113px-Seal_of_Frederick_County%2C_Maryland.png 1.5x, //upload.wikimedia.org/wikipedia/commons/thumb/9/99/Seal_of_Frederick_County%2C_Maryland.png/150px-Seal_of_Frederick_County%2C_Maryland.png 2x\" width=\"75\"/></a>\n",
       "</td>\n",
       "<td><span data-sort-value=\"7005239582000000000♠\">239,582</span>\n",
       "</td>\n",
       "<td><span data-sort-value=\"7002667000000000000♠\">667</span> sq mi<br/>(<span data-sort-value=\"7003172800000000000♠\">1,728</span> km<sup>2</sup>)</td>\n",
       "<td><a class=\"image\" href=\"/wiki/File:Map_of_Maryland_highlighting_Frederick_County.svg\" title=\"State map highlighting Frederick County\"><img alt=\"State map highlighting Frederick County\" data-file-height=\"2019\" data-file-width=\"3858\" decoding=\"async\" height=\"78\" src=\"//upload.wikimedia.org/wikipedia/commons/thumb/2/21/Map_of_Maryland_highlighting_Frederick_County.svg/150px-Map_of_Maryland_highlighting_Frederick_County.svg.png\" srcset=\"//upload.wikimedia.org/wikipedia/commons/thumb/2/21/Map_of_Maryland_highlighting_Frederick_County.svg/225px-Map_of_Maryland_highlighting_Frederick_County.svg.png 1.5x, //upload.wikimedia.org/wikipedia/commons/thumb/2/21/Map_of_Maryland_highlighting_Frederick_County.svg/300px-Map_of_Maryland_highlighting_Frederick_County.svg.png 2x\" width=\"150\"/></a>\n",
       "</td></tr>\n",
       "<tr>\n",
       "<th scope=\"row\"><a href=\"/wiki/Garrett_County,_Maryland\" title=\"Garrett County, Maryland\">Garrett County</a>\n",
       "</th>\n",
       "<td><a class=\"external text\" href=\"http://www.census.gov/quickfacts/table/PST045215/24023,00\" rel=\"nofollow\">023</a>\n",
       "</td>\n",
       "<td><a href=\"/wiki/Oakland,_Maryland\" title=\"Oakland, Maryland\">Oakland</a></td>\n",
       "<td>1872</td>\n",
       "<td>From part of Allegany County</td>\n",
       "<td><a class=\"mw-redirect\" href=\"/wiki/John_Work_Garrett\" title=\"John Work Garrett\">John Work Garrett</a>, president of the <a href=\"/wiki/Baltimore_and_Ohio_Railroad\" title=\"Baltimore and Ohio Railroad\">Baltimore and Ohio Railroad</a></td>\n",
       "<td><a class=\"image\" href=\"/wiki/File:Flag_of_Garrett_County,_Maryland.svg\"><img alt=\"Flag of Garrett County, Maryland.svg\" data-file-height=\"1042\" data-file-width=\"1723\" decoding=\"async\" height=\"76\" src=\"//upload.wikimedia.org/wikipedia/commons/thumb/e/e5/Flag_of_Garrett_County%2C_Maryland.svg/125px-Flag_of_Garrett_County%2C_Maryland.svg.png\" srcset=\"//upload.wikimedia.org/wikipedia/commons/thumb/e/e5/Flag_of_Garrett_County%2C_Maryland.svg/188px-Flag_of_Garrett_County%2C_Maryland.svg.png 1.5x, //upload.wikimedia.org/wikipedia/commons/thumb/e/e5/Flag_of_Garrett_County%2C_Maryland.svg/250px-Flag_of_Garrett_County%2C_Maryland.svg.png 2x\" width=\"125\"/></a></td>\n",
       "<td><a class=\"image\" href=\"/wiki/File:Seal_of_Garrett_County,_Maryland.svg\"><img alt=\"Seal of Garrett County, Maryland.svg\" data-file-height=\"842\" data-file-width=\"1001\" decoding=\"async\" height=\"63\" src=\"//upload.wikimedia.org/wikipedia/commons/thumb/8/82/Seal_of_Garrett_County%2C_Maryland.svg/75px-Seal_of_Garrett_County%2C_Maryland.svg.png\" srcset=\"//upload.wikimedia.org/wikipedia/commons/thumb/8/82/Seal_of_Garrett_County%2C_Maryland.svg/113px-Seal_of_Garrett_County%2C_Maryland.svg.png 1.5x, //upload.wikimedia.org/wikipedia/commons/thumb/8/82/Seal_of_Garrett_County%2C_Maryland.svg/150px-Seal_of_Garrett_County%2C_Maryland.svg.png 2x\" width=\"75\"/></a>\n",
       "</td>\n",
       "<td><span data-sort-value=\"7004298540000000000♠\">29,854</span>\n",
       "</td>\n",
       "<td><span data-sort-value=\"7002656000000000000♠\">656</span> sq mi<br/>(<span data-sort-value=\"7003169900000000000♠\">1,699</span> km<sup>2</sup>)</td>\n",
       "<td><a class=\"image\" href=\"/wiki/File:Map_of_Maryland_highlighting_Garrett_County.svg\" title=\"State map highlighting Garrett County\"><img alt=\"State map highlighting Garrett County\" data-file-height=\"2019\" data-file-width=\"3858\" decoding=\"async\" height=\"78\" src=\"//upload.wikimedia.org/wikipedia/commons/thumb/a/a6/Map_of_Maryland_highlighting_Garrett_County.svg/150px-Map_of_Maryland_highlighting_Garrett_County.svg.png\" srcset=\"//upload.wikimedia.org/wikipedia/commons/thumb/a/a6/Map_of_Maryland_highlighting_Garrett_County.svg/225px-Map_of_Maryland_highlighting_Garrett_County.svg.png 1.5x, //upload.wikimedia.org/wikipedia/commons/thumb/a/a6/Map_of_Maryland_highlighting_Garrett_County.svg/300px-Map_of_Maryland_highlighting_Garrett_County.svg.png 2x\" width=\"150\"/></a>\n",
       "</td></tr>\n",
       "<tr>\n",
       "<th scope=\"row\"><a href=\"/wiki/Harford_County,_Maryland\" title=\"Harford County, Maryland\">Harford County</a>\n",
       "</th>\n",
       "<td><a class=\"external text\" href=\"http://www.census.gov/quickfacts/table/PST045215/24025,00\" rel=\"nofollow\">025</a>\n",
       "</td>\n",
       "<td><a class=\"mw-redirect\" href=\"/wiki/Bel_Air,_Maryland\" title=\"Bel Air, Maryland\">Bel Air</a></td>\n",
       "<td>1773</td>\n",
       "<td>From part of Baltimore County</td>\n",
       "<td><a href=\"/wiki/Henry_Harford\" title=\"Henry Harford\">Henry Harford</a>, illegitimate son of <a href=\"/wiki/Frederick_Calvert,_6th_Baron_Baltimore\" title=\"Frederick Calvert, 6th Baron Baltimore\">Frederick Calvert, 6th Baron Baltimore</a></td>\n",
       "<td><a class=\"image\" href=\"/wiki/File:Flag_of_Harford_County,_Maryland.png\"><img alt=\"Flag of Harford County, Maryland.png\" data-file-height=\"216\" data-file-width=\"360\" decoding=\"async\" height=\"75\" src=\"//upload.wikimedia.org/wikipedia/commons/thumb/4/41/Flag_of_Harford_County%2C_Maryland.png/125px-Flag_of_Harford_County%2C_Maryland.png\" srcset=\"//upload.wikimedia.org/wikipedia/commons/thumb/4/41/Flag_of_Harford_County%2C_Maryland.png/188px-Flag_of_Harford_County%2C_Maryland.png 1.5x, //upload.wikimedia.org/wikipedia/commons/thumb/4/41/Flag_of_Harford_County%2C_Maryland.png/250px-Flag_of_Harford_County%2C_Maryland.png 2x\" width=\"125\"/></a></td>\n",
       "<td><a class=\"image\" href=\"/wiki/File:Seal_of_Harford_County,_Maryland.svg\"><img alt=\"Seal of Harford County, Maryland.svg\" data-file-height=\"503\" data-file-width=\"502\" decoding=\"async\" height=\"75\" src=\"//upload.wikimedia.org/wikipedia/commons/thumb/3/30/Seal_of_Harford_County%2C_Maryland.svg/75px-Seal_of_Harford_County%2C_Maryland.svg.png\" srcset=\"//upload.wikimedia.org/wikipedia/commons/thumb/3/30/Seal_of_Harford_County%2C_Maryland.svg/113px-Seal_of_Harford_County%2C_Maryland.svg.png 1.5x, //upload.wikimedia.org/wikipedia/commons/thumb/3/30/Seal_of_Harford_County%2C_Maryland.svg/150px-Seal_of_Harford_County%2C_Maryland.svg.png 2x\" width=\"75\"/></a>\n",
       "</td>\n",
       "<td><span data-sort-value=\"7005248622000000000♠\">248,622</span>\n",
       "</td>\n",
       "<td><span data-sort-value=\"7002527000000000000♠\">527</span> sq mi<br/>(<span data-sort-value=\"7003136500000000000♠\">1,365</span> km<sup>2</sup>)</td>\n",
       "<td><a class=\"image\" href=\"/wiki/File:Map_of_Maryland_highlighting_Harford_County.svg\" title=\"State map highlighting Harford County\"><img alt=\"State map highlighting Harford County\" data-file-height=\"2019\" data-file-width=\"3858\" decoding=\"async\" height=\"78\" src=\"//upload.wikimedia.org/wikipedia/commons/thumb/7/7c/Map_of_Maryland_highlighting_Harford_County.svg/150px-Map_of_Maryland_highlighting_Harford_County.svg.png\" srcset=\"//upload.wikimedia.org/wikipedia/commons/thumb/7/7c/Map_of_Maryland_highlighting_Harford_County.svg/225px-Map_of_Maryland_highlighting_Harford_County.svg.png 1.5x, //upload.wikimedia.org/wikipedia/commons/thumb/7/7c/Map_of_Maryland_highlighting_Harford_County.svg/300px-Map_of_Maryland_highlighting_Harford_County.svg.png 2x\" width=\"150\"/></a>\n",
       "</td></tr>\n",
       "<tr>\n",
       "<th scope=\"row\"><a href=\"/wiki/Howard_County,_Maryland\" title=\"Howard County, Maryland\">Howard County</a>\n",
       "</th>\n",
       "<td><a class=\"external text\" href=\"http://www.census.gov/quickfacts/table/PST045215/24027,00\" rel=\"nofollow\">027</a>\n",
       "</td>\n",
       "<td><a href=\"/wiki/Ellicott_City,_Maryland\" title=\"Ellicott City, Maryland\">Ellicott City</a></td>\n",
       "<td>1851</td>\n",
       "<td>From parts of Anne Arundel County and Baltimore County</td>\n",
       "<td><a class=\"mw-redirect\" href=\"/wiki/John_E._Howard\" title=\"John E. Howard\">John Eager Howard</a>, an <a href=\"/wiki/American_Revolutionary_War\" title=\"American Revolutionary War\">American Revolutionary War</a> officer and <a href=\"/wiki/Governor_of_Maryland\" title=\"Governor of Maryland\">governor of Maryland</a></td>\n",
       "<td><a class=\"image\" href=\"/wiki/File:Flag_of_Howard_County,_Maryland.svg\"><img alt=\"Flag of Howard County, Maryland.svg\" data-file-height=\"769\" data-file-width=\"1024\" decoding=\"async\" height=\"94\" src=\"//upload.wikimedia.org/wikipedia/commons/thumb/e/e9/Flag_of_Howard_County%2C_Maryland.svg/125px-Flag_of_Howard_County%2C_Maryland.svg.png\" srcset=\"//upload.wikimedia.org/wikipedia/commons/thumb/e/e9/Flag_of_Howard_County%2C_Maryland.svg/188px-Flag_of_Howard_County%2C_Maryland.svg.png 1.5x, //upload.wikimedia.org/wikipedia/commons/thumb/e/e9/Flag_of_Howard_County%2C_Maryland.svg/250px-Flag_of_Howard_County%2C_Maryland.svg.png 2x\" width=\"125\"/></a></td>\n",
       "<td><a class=\"image\" href=\"/wiki/File:Seal_of_Howard_County,_Maryland.png\"><img alt=\"Seal of Howard County, Maryland.png\" data-file-height=\"338\" data-file-width=\"341\" decoding=\"async\" height=\"74\" src=\"//upload.wikimedia.org/wikipedia/commons/thumb/b/b9/Seal_of_Howard_County%2C_Maryland.png/75px-Seal_of_Howard_County%2C_Maryland.png\" srcset=\"//upload.wikimedia.org/wikipedia/commons/thumb/b/b9/Seal_of_Howard_County%2C_Maryland.png/113px-Seal_of_Howard_County%2C_Maryland.png 1.5x, //upload.wikimedia.org/wikipedia/commons/thumb/b/b9/Seal_of_Howard_County%2C_Maryland.png/150px-Seal_of_Howard_County%2C_Maryland.png 2x\" width=\"75\"/></a>\n",
       "</td>\n",
       "<td><span data-sort-value=\"7005299430000000000♠\">299,430</span>\n",
       "</td>\n",
       "<td><span data-sort-value=\"7002254000000000000♠\">254</span> sq mi<br/>(<span data-sort-value=\"7002658000000000000♠\">658</span> km<sup>2</sup>)</td>\n",
       "<td><a class=\"image\" href=\"/wiki/File:Map_of_Maryland_highlighting_Howard_County.svg\" title=\"State map highlighting Howard County\"><img alt=\"State map highlighting Howard County\" data-file-height=\"2019\" data-file-width=\"3858\" decoding=\"async\" height=\"78\" src=\"//upload.wikimedia.org/wikipedia/commons/thumb/2/25/Map_of_Maryland_highlighting_Howard_County.svg/150px-Map_of_Maryland_highlighting_Howard_County.svg.png\" srcset=\"//upload.wikimedia.org/wikipedia/commons/thumb/2/25/Map_of_Maryland_highlighting_Howard_County.svg/225px-Map_of_Maryland_highlighting_Howard_County.svg.png 1.5x, //upload.wikimedia.org/wikipedia/commons/thumb/2/25/Map_of_Maryland_highlighting_Howard_County.svg/300px-Map_of_Maryland_highlighting_Howard_County.svg.png 2x\" width=\"150\"/></a>\n",
       "</td></tr>\n",
       "<tr>\n",
       "<th scope=\"row\"><a href=\"/wiki/Kent_County,_Maryland\" title=\"Kent County, Maryland\">Kent County</a>\n",
       "</th>\n",
       "<td><a class=\"external text\" href=\"http://www.census.gov/quickfacts/table/PST045215/24029,00\" rel=\"nofollow\">029</a>\n",
       "</td>\n",
       "<td><a href=\"/wiki/Chestertown,_Maryland\" title=\"Chestertown, Maryland\">Chestertown</a></td>\n",
       "<td>1642</td>\n",
       "<td>From unorganized territory</td>\n",
       "<td>The <a href=\"/wiki/England\" title=\"England\">English</a> county of <a href=\"/wiki/Kent\" title=\"Kent\">Kent</a></td>\n",
       "<td><a class=\"image\" href=\"/wiki/File:Flag_of_Kent_County,_Maryland.gif\"><img alt=\"Flag of Kent County, Maryland.gif\" data-file-height=\"240\" data-file-width=\"400\" decoding=\"async\" height=\"75\" src=\"//upload.wikimedia.org/wikipedia/commons/thumb/5/53/Flag_of_Kent_County%2C_Maryland.gif/125px-Flag_of_Kent_County%2C_Maryland.gif\" srcset=\"//upload.wikimedia.org/wikipedia/commons/thumb/5/53/Flag_of_Kent_County%2C_Maryland.gif/188px-Flag_of_Kent_County%2C_Maryland.gif 1.5x, //upload.wikimedia.org/wikipedia/commons/thumb/5/53/Flag_of_Kent_County%2C_Maryland.gif/250px-Flag_of_Kent_County%2C_Maryland.gif 2x\" width=\"125\"/></a></td>\n",
       "<td><a class=\"image\" href=\"/wiki/File:Seal_of_Kent_County,_Maryland.gif\"><img alt=\"Seal of Kent County, Maryland.gif\" data-file-height=\"182\" data-file-width=\"180\" decoding=\"async\" height=\"76\" src=\"//upload.wikimedia.org/wikipedia/commons/thumb/e/ed/Seal_of_Kent_County%2C_Maryland.gif/75px-Seal_of_Kent_County%2C_Maryland.gif\" srcset=\"//upload.wikimedia.org/wikipedia/commons/thumb/e/ed/Seal_of_Kent_County%2C_Maryland.gif/113px-Seal_of_Kent_County%2C_Maryland.gif 1.5x, //upload.wikimedia.org/wikipedia/commons/thumb/e/ed/Seal_of_Kent_County%2C_Maryland.gif/150px-Seal_of_Kent_County%2C_Maryland.gif 2x\" width=\"75\"/></a>\n",
       "</td>\n",
       "<td><span data-sort-value=\"7004201910000000000♠\">20,191</span>\n",
       "</td>\n",
       "<td><span data-sort-value=\"7002414000000000000♠\">414</span> sq mi<br/>(<span data-sort-value=\"7003107200000000000♠\">1,072</span> km<sup>2</sup>)</td>\n",
       "<td><a class=\"image\" href=\"/wiki/File:Map_of_Maryland_highlighting_Kent_County.svg\" title=\"State map highlighting Kent County\"><img alt=\"State map highlighting Kent County\" data-file-height=\"2019\" data-file-width=\"3858\" decoding=\"async\" height=\"78\" src=\"//upload.wikimedia.org/wikipedia/commons/thumb/7/72/Map_of_Maryland_highlighting_Kent_County.svg/150px-Map_of_Maryland_highlighting_Kent_County.svg.png\" srcset=\"//upload.wikimedia.org/wikipedia/commons/thumb/7/72/Map_of_Maryland_highlighting_Kent_County.svg/225px-Map_of_Maryland_highlighting_Kent_County.svg.png 1.5x, //upload.wikimedia.org/wikipedia/commons/thumb/7/72/Map_of_Maryland_highlighting_Kent_County.svg/300px-Map_of_Maryland_highlighting_Kent_County.svg.png 2x\" width=\"150\"/></a>\n",
       "</td></tr>\n",
       "<tr>\n",
       "<th scope=\"row\"><a href=\"/wiki/Montgomery_County,_Maryland\" title=\"Montgomery County, Maryland\">Montgomery County</a>\n",
       "</th>\n",
       "<td><a class=\"external text\" href=\"http://www.census.gov/quickfacts/table/PST045215/24031,00\" rel=\"nofollow\">031</a>\n",
       "</td>\n",
       "<td><a href=\"/wiki/Rockville,_Maryland\" title=\"Rockville, Maryland\">Rockville</a></td>\n",
       "<td>1776</td>\n",
       "<td>From part of Frederick County</td>\n",
       "<td><a href=\"/wiki/Richard_Montgomery\" title=\"Richard Montgomery\">Richard Montgomery</a>, an <a href=\"/wiki/American_Revolutionary_War\" title=\"American Revolutionary War\">American Revolutionary War</a> general</td>\n",
       "<td><a class=\"image\" href=\"/wiki/File:Flag_of_Montgomery_County,_Maryland.svg\"><img alt=\"Flag of Montgomery County, Maryland.svg\" data-file-height=\"200\" data-file-width=\"300\" decoding=\"async\" height=\"83\" src=\"//upload.wikimedia.org/wikipedia/commons/thumb/e/e4/Flag_of_Montgomery_County%2C_Maryland.svg/125px-Flag_of_Montgomery_County%2C_Maryland.svg.png\" srcset=\"//upload.wikimedia.org/wikipedia/commons/thumb/e/e4/Flag_of_Montgomery_County%2C_Maryland.svg/188px-Flag_of_Montgomery_County%2C_Maryland.svg.png 1.5x, //upload.wikimedia.org/wikipedia/commons/thumb/e/e4/Flag_of_Montgomery_County%2C_Maryland.svg/250px-Flag_of_Montgomery_County%2C_Maryland.svg.png 2x\" width=\"125\"/></a></td>\n",
       "<td><a class=\"image\" href=\"/wiki/File:Seal_of_Montgomery_County,_Maryland.svg\"><img alt=\"Seal of Montgomery County, Maryland.svg\" data-file-height=\"983\" data-file-width=\"983\" decoding=\"async\" height=\"75\" src=\"//upload.wikimedia.org/wikipedia/commons/thumb/a/af/Seal_of_Montgomery_County%2C_Maryland.svg/75px-Seal_of_Montgomery_County%2C_Maryland.svg.png\" srcset=\"//upload.wikimedia.org/wikipedia/commons/thumb/a/af/Seal_of_Montgomery_County%2C_Maryland.svg/113px-Seal_of_Montgomery_County%2C_Maryland.svg.png 1.5x, //upload.wikimedia.org/wikipedia/commons/thumb/a/af/Seal_of_Montgomery_County%2C_Maryland.svg/150px-Seal_of_Montgomery_County%2C_Maryland.svg.png 2x\" width=\"75\"/></a>\n",
       "</td>\n",
       "<td><span data-sort-value=\"7006100470900000000♠\">1,004,709</span>\n",
       "</td>\n",
       "<td><span data-sort-value=\"7002507000000000000♠\">507</span> sq mi<br/>(<span data-sort-value=\"7003131300000000000♠\">1,313</span> km<sup>2</sup>)</td>\n",
       "<td><a class=\"image\" href=\"/wiki/File:Map_of_Maryland_highlighting_Montgomery_County.svg\" title=\"State map highlighting Montgomery County\"><img alt=\"State map highlighting Montgomery County\" data-file-height=\"2019\" data-file-width=\"3858\" decoding=\"async\" height=\"78\" src=\"//upload.wikimedia.org/wikipedia/commons/thumb/6/6c/Map_of_Maryland_highlighting_Montgomery_County.svg/150px-Map_of_Maryland_highlighting_Montgomery_County.svg.png\" srcset=\"//upload.wikimedia.org/wikipedia/commons/thumb/6/6c/Map_of_Maryland_highlighting_Montgomery_County.svg/225px-Map_of_Maryland_highlighting_Montgomery_County.svg.png 1.5x, //upload.wikimedia.org/wikipedia/commons/thumb/6/6c/Map_of_Maryland_highlighting_Montgomery_County.svg/300px-Map_of_Maryland_highlighting_Montgomery_County.svg.png 2x\" width=\"150\"/></a>\n",
       "</td></tr>\n",
       "<tr>\n",
       "<th scope=\"row\"><a href=\"/wiki/Prince_George%27s_County,_Maryland\" title=\"Prince George's County, Maryland\">Prince George's County</a>\n",
       "</th>\n",
       "<td><a class=\"external text\" href=\"http://www.census.gov/quickfacts/table/PST045215/24033,00\" rel=\"nofollow\">033</a>\n",
       "</td>\n",
       "<td><a href=\"/wiki/Upper_Marlboro,_Maryland\" title=\"Upper Marlboro, Maryland\">Upper Marlboro</a></td>\n",
       "<td>1696</td>\n",
       "<td>From parts of Calvert County and Charles County</td>\n",
       "<td><a class=\"mw-redirect\" href=\"/wiki/George_of_Denmark\" title=\"George of Denmark\">Prince George of Denmark</a>, the husband of Queen <a href=\"/wiki/Anne,_Queen_of_Great_Britain\" title=\"Anne, Queen of Great Britain\">Anne of Great Britain</a></td>\n",
       "<td><a class=\"image\" href=\"/wiki/File:Flag_of_Prince_George%27s_County,_Maryland.svg\"><img alt=\"Flag of Prince George's County, Maryland.svg\" data-file-height=\"480\" data-file-width=\"800\" decoding=\"async\" height=\"75\" src=\"//upload.wikimedia.org/wikipedia/commons/thumb/8/81/Flag_of_Prince_George%27s_County%2C_Maryland.svg/125px-Flag_of_Prince_George%27s_County%2C_Maryland.svg.png\" srcset=\"//upload.wikimedia.org/wikipedia/commons/thumb/8/81/Flag_of_Prince_George%27s_County%2C_Maryland.svg/188px-Flag_of_Prince_George%27s_County%2C_Maryland.svg.png 1.5x, //upload.wikimedia.org/wikipedia/commons/thumb/8/81/Flag_of_Prince_George%27s_County%2C_Maryland.svg/250px-Flag_of_Prince_George%27s_County%2C_Maryland.svg.png 2x\" width=\"125\"/></a></td>\n",
       "<td><a class=\"image\" href=\"/wiki/File:Seal_of_Prince_George%27s_County,_Maryland.svg\"><img alt=\"Seal of Prince George's County, Maryland.svg\" data-file-height=\"1024\" data-file-width=\"794\" decoding=\"async\" height=\"97\" src=\"//upload.wikimedia.org/wikipedia/commons/thumb/c/c8/Seal_of_Prince_George%27s_County%2C_Maryland.svg/75px-Seal_of_Prince_George%27s_County%2C_Maryland.svg.png\" srcset=\"//upload.wikimedia.org/wikipedia/commons/thumb/c/c8/Seal_of_Prince_George%27s_County%2C_Maryland.svg/113px-Seal_of_Prince_George%27s_County%2C_Maryland.svg.png 1.5x, //upload.wikimedia.org/wikipedia/commons/thumb/c/c8/Seal_of_Prince_George%27s_County%2C_Maryland.svg/150px-Seal_of_Prince_George%27s_County%2C_Maryland.svg.png 2x\" width=\"75\"/></a>\n",
       "</td>\n",
       "<td><span data-sort-value=\"7005881138000000000♠\">881,138</span>\n",
       "</td>\n",
       "<td><span data-sort-value=\"7002498000000000000♠\">498</span> sq mi<br/>(<span data-sort-value=\"7003129000000000000♠\">1,290</span> km<sup>2</sup>)</td>\n",
       "<td><a class=\"image\" href=\"/wiki/File:Map_of_Maryland_highlighting_Prince_George%27s_County.svg\" title=\"State map highlighting Prince George's County\"><img alt=\"State map highlighting Prince George's County\" data-file-height=\"2019\" data-file-width=\"3858\" decoding=\"async\" height=\"78\" src=\"//upload.wikimedia.org/wikipedia/commons/thumb/9/93/Map_of_Maryland_highlighting_Prince_George%27s_County.svg/150px-Map_of_Maryland_highlighting_Prince_George%27s_County.svg.png\" srcset=\"//upload.wikimedia.org/wikipedia/commons/thumb/9/93/Map_of_Maryland_highlighting_Prince_George%27s_County.svg/225px-Map_of_Maryland_highlighting_Prince_George%27s_County.svg.png 1.5x, //upload.wikimedia.org/wikipedia/commons/thumb/9/93/Map_of_Maryland_highlighting_Prince_George%27s_County.svg/300px-Map_of_Maryland_highlighting_Prince_George%27s_County.svg.png 2x\" width=\"150\"/></a>\n",
       "</td></tr>\n",
       "<tr>\n",
       "<th scope=\"row\"><a href=\"/wiki/Queen_Anne%27s_County,_Maryland\" title=\"Queen Anne's County, Maryland\">Queen Anne's County</a>\n",
       "</th>\n",
       "<td><a class=\"external text\" href=\"http://www.census.gov/quickfacts/table/PST045215/24035,00\" rel=\"nofollow\">035</a>\n",
       "</td>\n",
       "<td><a href=\"/wiki/Centreville,_Maryland\" title=\"Centreville, Maryland\">Centreville</a></td>\n",
       "<td>1706</td>\n",
       "<td>From parts of Talbot County</td>\n",
       "<td><a href=\"/wiki/Anne,_Queen_of_Great_Britain\" title=\"Anne, Queen of Great Britain\">Anne, Queen of Great Britain</a></td>\n",
       "<td><a class=\"image\" href=\"/wiki/File:Flag_of_Queen_Anne%27s_County,_Maryland.gif\"><img alt=\"Flag of Queen Anne's County, Maryland.gif\" data-file-height=\"216\" data-file-width=\"360\" decoding=\"async\" height=\"75\" src=\"//upload.wikimedia.org/wikipedia/commons/thumb/3/3f/Flag_of_Queen_Anne%27s_County%2C_Maryland.gif/125px-Flag_of_Queen_Anne%27s_County%2C_Maryland.gif\" srcset=\"//upload.wikimedia.org/wikipedia/commons/thumb/3/3f/Flag_of_Queen_Anne%27s_County%2C_Maryland.gif/188px-Flag_of_Queen_Anne%27s_County%2C_Maryland.gif 1.5x, //upload.wikimedia.org/wikipedia/commons/thumb/3/3f/Flag_of_Queen_Anne%27s_County%2C_Maryland.gif/250px-Flag_of_Queen_Anne%27s_County%2C_Maryland.gif 2x\" width=\"125\"/></a></td>\n",
       "<td><a class=\"image\" href=\"/wiki/File:Seal_of_Queen_Anne%27s_County,_Maryland.png\"><img alt=\"Seal of Queen Anne's County, Maryland.png\" data-file-height=\"180\" data-file-width=\"180\" decoding=\"async\" height=\"75\" src=\"//upload.wikimedia.org/wikipedia/commons/thumb/e/e9/Seal_of_Queen_Anne%27s_County%2C_Maryland.png/75px-Seal_of_Queen_Anne%27s_County%2C_Maryland.png\" srcset=\"//upload.wikimedia.org/wikipedia/commons/thumb/e/e9/Seal_of_Queen_Anne%27s_County%2C_Maryland.png/113px-Seal_of_Queen_Anne%27s_County%2C_Maryland.png 1.5x, //upload.wikimedia.org/wikipedia/commons/thumb/e/e9/Seal_of_Queen_Anne%27s_County%2C_Maryland.png/150px-Seal_of_Queen_Anne%27s_County%2C_Maryland.png 2x\" width=\"75\"/></a>\n",
       "</td>\n",
       "<td><span data-sort-value=\"7004485950000000000♠\">48,595</span>\n",
       "</td>\n",
       "<td><span data-sort-value=\"7002510000000000000♠\">510</span> sq mi<br/>(<span data-sort-value=\"7003132100000000000♠\">1,321</span> km<sup>2</sup>)</td>\n",
       "<td><a class=\"image\" href=\"/wiki/File:Map_of_Maryland_highlighting_Queen_Anne%27s_County.svg\" title=\"State map highlighting Queen Anne's County\"><img alt=\"State map highlighting Queen Anne's County\" data-file-height=\"2019\" data-file-width=\"3858\" decoding=\"async\" height=\"78\" src=\"//upload.wikimedia.org/wikipedia/commons/thumb/6/6a/Map_of_Maryland_highlighting_Queen_Anne%27s_County.svg/150px-Map_of_Maryland_highlighting_Queen_Anne%27s_County.svg.png\" srcset=\"//upload.wikimedia.org/wikipedia/commons/thumb/6/6a/Map_of_Maryland_highlighting_Queen_Anne%27s_County.svg/225px-Map_of_Maryland_highlighting_Queen_Anne%27s_County.svg.png 1.5x, //upload.wikimedia.org/wikipedia/commons/thumb/6/6a/Map_of_Maryland_highlighting_Queen_Anne%27s_County.svg/300px-Map_of_Maryland_highlighting_Queen_Anne%27s_County.svg.png 2x\" width=\"150\"/></a>\n",
       "</td></tr>\n",
       "<tr>\n",
       "<th scope=\"row\"><a href=\"/wiki/Somerset_County,_Maryland\" title=\"Somerset County, Maryland\">Somerset County</a>\n",
       "</th>\n",
       "<td><a class=\"external text\" href=\"http://www.census.gov/quickfacts/table/PST045215/24039,00\" rel=\"nofollow\">039</a>\n",
       "</td>\n",
       "<td><a href=\"/wiki/Princess_Anne,_Maryland\" title=\"Princess Anne, Maryland\">Princess Anne</a></td>\n",
       "<td>1666</td>\n",
       "<td>From unorganized territory.</td>\n",
       "<td>Mary, Lady Somerset, sister-in-law of <a href=\"/wiki/Cecil_Calvert,_2nd_Baron_Baltimore\" title=\"Cecil Calvert, 2nd Baron Baltimore\">Cecil Calvert, 2nd Baron Baltimore</a></td>\n",
       "<td><a class=\"image\" href=\"/wiki/File:Flag_of_Somerset_County,_Maryland.svg\"><img alt=\"Flag of Somerset County, Maryland.svg\" data-file-height=\"1232\" data-file-width=\"1952\" decoding=\"async\" height=\"79\" src=\"//upload.wikimedia.org/wikipedia/commons/thumb/d/d2/Flag_of_Somerset_County%2C_Maryland.svg/125px-Flag_of_Somerset_County%2C_Maryland.svg.png\" srcset=\"//upload.wikimedia.org/wikipedia/commons/thumb/d/d2/Flag_of_Somerset_County%2C_Maryland.svg/188px-Flag_of_Somerset_County%2C_Maryland.svg.png 1.5x, //upload.wikimedia.org/wikipedia/commons/thumb/d/d2/Flag_of_Somerset_County%2C_Maryland.svg/250px-Flag_of_Somerset_County%2C_Maryland.svg.png 2x\" width=\"125\"/></a></td>\n",
       "<td><a class=\"image\" href=\"/wiki/File:Seal_of_Somerset_County,_Maryland.png\"><img alt=\"Seal of Somerset County, Maryland.png\" data-file-height=\"378\" data-file-width=\"324\" decoding=\"async\" height=\"88\" src=\"//upload.wikimedia.org/wikipedia/commons/thumb/e/ee/Seal_of_Somerset_County%2C_Maryland.png/75px-Seal_of_Somerset_County%2C_Maryland.png\" srcset=\"//upload.wikimedia.org/wikipedia/commons/thumb/e/ee/Seal_of_Somerset_County%2C_Maryland.png/113px-Seal_of_Somerset_County%2C_Maryland.png 1.5x, //upload.wikimedia.org/wikipedia/commons/thumb/e/ee/Seal_of_Somerset_County%2C_Maryland.png/150px-Seal_of_Somerset_County%2C_Maryland.png 2x\" width=\"75\"/></a>\n",
       "</td>\n",
       "<td><span data-sort-value=\"7004262530000000000♠\">26,253</span>\n",
       "</td>\n",
       "<td><span data-sort-value=\"7002611000000000000♠\">611</span> sq mi<br/>(<span data-sort-value=\"7003158200000000000♠\">1,582</span> km<sup>2</sup>)</td>\n",
       "<td><a class=\"image\" href=\"/wiki/File:Map_of_Maryland_highlighting_Somerset_County.svg\" title=\"State map highlighting Somerset County\"><img alt=\"State map highlighting Somerset County\" data-file-height=\"2019\" data-file-width=\"3858\" decoding=\"async\" height=\"78\" src=\"//upload.wikimedia.org/wikipedia/commons/thumb/9/9a/Map_of_Maryland_highlighting_Somerset_County.svg/150px-Map_of_Maryland_highlighting_Somerset_County.svg.png\" srcset=\"//upload.wikimedia.org/wikipedia/commons/thumb/9/9a/Map_of_Maryland_highlighting_Somerset_County.svg/225px-Map_of_Maryland_highlighting_Somerset_County.svg.png 1.5x, //upload.wikimedia.org/wikipedia/commons/thumb/9/9a/Map_of_Maryland_highlighting_Somerset_County.svg/300px-Map_of_Maryland_highlighting_Somerset_County.svg.png 2x\" width=\"150\"/></a>\n",
       "</td></tr>\n",
       "<tr>\n",
       "<th scope=\"row\"><a href=\"/wiki/St._Mary%27s_County,_Maryland\" title=\"St. Mary's County, Maryland\">St. Mary's County</a>\n",
       "</th>\n",
       "<td><a class=\"external text\" href=\"http://www.census.gov/quickfacts/table/PST045215/24037,00\" rel=\"nofollow\">037</a>\n",
       "</td>\n",
       "<td><a href=\"/wiki/Leonardtown,_Maryland\" title=\"Leonardtown, Maryland\">Leonardtown</a></td>\n",
       "<td>1637</td>\n",
       "<td>From unorganized territory. Was named Potomac County between 1654 and 1658.</td>\n",
       "<td><a class=\"mw-redirect\" href=\"/wiki/Mary,_the_mother_of_Jesus\" title=\"Mary, the mother of Jesus\">The Virgin Mary</a>, first county named in a colony intended to be a haven for Catholics</td>\n",
       "<td><a class=\"image\" href=\"/wiki/File:Flag_of_St._Mary%27s_County,_Maryland.png\"><img alt=\"Flag of St. Mary's County, Maryland.png\" data-file-height=\"834\" data-file-width=\"1666\" decoding=\"async\" height=\"63\" src=\"//upload.wikimedia.org/wikipedia/commons/thumb/d/d2/Flag_of_St._Mary%27s_County%2C_Maryland.png/125px-Flag_of_St._Mary%27s_County%2C_Maryland.png\" srcset=\"//upload.wikimedia.org/wikipedia/commons/thumb/d/d2/Flag_of_St._Mary%27s_County%2C_Maryland.png/188px-Flag_of_St._Mary%27s_County%2C_Maryland.png 1.5x, //upload.wikimedia.org/wikipedia/commons/thumb/d/d2/Flag_of_St._Mary%27s_County%2C_Maryland.png/250px-Flag_of_St._Mary%27s_County%2C_Maryland.png 2x\" width=\"125\"/></a></td>\n",
       "<td><a class=\"image\" href=\"/wiki/File:Seal_of_St._Mary%27s_County,_Maryland.png\"><img alt=\"Seal of St. Mary's County, Maryland.png\" data-file-height=\"464\" data-file-width=\"464\" decoding=\"async\" height=\"75\" src=\"//upload.wikimedia.org/wikipedia/commons/thumb/b/bc/Seal_of_St._Mary%27s_County%2C_Maryland.png/75px-Seal_of_St._Mary%27s_County%2C_Maryland.png\" srcset=\"//upload.wikimedia.org/wikipedia/commons/thumb/b/bc/Seal_of_St._Mary%27s_County%2C_Maryland.png/113px-Seal_of_St._Mary%27s_County%2C_Maryland.png 1.5x, //upload.wikimedia.org/wikipedia/commons/thumb/b/bc/Seal_of_St._Mary%27s_County%2C_Maryland.png/150px-Seal_of_St._Mary%27s_County%2C_Maryland.png 2x\" width=\"75\"/></a>\n",
       "</td>\n",
       "<td><span data-sort-value=\"7005108987000000000♠\">108,987</span>\n",
       "</td>\n",
       "<td><span data-sort-value=\"7002611000000000000♠\">611</span> sq mi<br/>(<span data-sort-value=\"7003158200000000000♠\">1,582</span> km<sup>2</sup>)</td>\n",
       "<td><a class=\"image\" href=\"/wiki/File:Map_of_Maryland_highlighting_Saint_Mary%27s_County.svg\" title=\"State map highlighting St. Mary's County\"><img alt=\"State map highlighting St. Mary's County\" data-file-height=\"2019\" data-file-width=\"3858\" decoding=\"async\" height=\"78\" src=\"//upload.wikimedia.org/wikipedia/commons/thumb/b/b6/Map_of_Maryland_highlighting_Saint_Mary%27s_County.svg/150px-Map_of_Maryland_highlighting_Saint_Mary%27s_County.svg.png\" srcset=\"//upload.wikimedia.org/wikipedia/commons/thumb/b/b6/Map_of_Maryland_highlighting_Saint_Mary%27s_County.svg/225px-Map_of_Maryland_highlighting_Saint_Mary%27s_County.svg.png 1.5x, //upload.wikimedia.org/wikipedia/commons/thumb/b/b6/Map_of_Maryland_highlighting_Saint_Mary%27s_County.svg/300px-Map_of_Maryland_highlighting_Saint_Mary%27s_County.svg.png 2x\" width=\"150\"/></a>\n",
       "</td></tr>\n",
       "<tr>\n",
       "<th scope=\"row\"><a href=\"/wiki/Talbot_County,_Maryland\" title=\"Talbot County, Maryland\">Talbot County</a>\n",
       "</th>\n",
       "<td><a class=\"external text\" href=\"http://www.census.gov/quickfacts/table/PST045215/24041,00\" rel=\"nofollow\">041</a>\n",
       "</td>\n",
       "<td><a href=\"/wiki/Easton,_Maryland\" title=\"Easton, Maryland\">Easton</a></td>\n",
       "<td>1662</td>\n",
       "<td>From part of Kent County</td>\n",
       "<td>Grace, Lady Talbot, sister of <a href=\"/wiki/Cecil_Calvert,_2nd_Baron_Baltimore\" title=\"Cecil Calvert, 2nd Baron Baltimore\">Cecil Calvert, 2nd Baron Baltimore</a></td>\n",
       "<td><a class=\"image\" href=\"/wiki/File:Flag_of_Talbot_County,_Maryland.svg\"><img alt=\"Flag of Talbot County, Maryland.svg\" data-file-height=\"860\" data-file-width=\"1429\" decoding=\"async\" height=\"75\" src=\"//upload.wikimedia.org/wikipedia/commons/thumb/9/9d/Flag_of_Talbot_County%2C_Maryland.svg/125px-Flag_of_Talbot_County%2C_Maryland.svg.png\" srcset=\"//upload.wikimedia.org/wikipedia/commons/thumb/9/9d/Flag_of_Talbot_County%2C_Maryland.svg/188px-Flag_of_Talbot_County%2C_Maryland.svg.png 1.5x, //upload.wikimedia.org/wikipedia/commons/thumb/9/9d/Flag_of_Talbot_County%2C_Maryland.svg/250px-Flag_of_Talbot_County%2C_Maryland.svg.png 2x\" width=\"125\"/></a></td>\n",
       "<td><a class=\"image\" href=\"/wiki/File:Seal_of_Talbot_County,_Maryland.png\"><img alt=\"Seal of Talbot County, Maryland.png\" data-file-height=\"184\" data-file-width=\"184\" decoding=\"async\" height=\"75\" src=\"//upload.wikimedia.org/wikipedia/commons/thumb/e/eb/Seal_of_Talbot_County%2C_Maryland.png/75px-Seal_of_Talbot_County%2C_Maryland.png\" srcset=\"//upload.wikimedia.org/wikipedia/commons/thumb/e/eb/Seal_of_Talbot_County%2C_Maryland.png/113px-Seal_of_Talbot_County%2C_Maryland.png 1.5x, //upload.wikimedia.org/wikipedia/commons/thumb/e/eb/Seal_of_Talbot_County%2C_Maryland.png/150px-Seal_of_Talbot_County%2C_Maryland.png 2x\" width=\"75\"/></a>\n",
       "</td>\n",
       "<td><span data-sort-value=\"7004380980000000000♠\">38,098</span>\n",
       "</td>\n",
       "<td><span data-sort-value=\"7002477000000000000♠\">477</span> sq mi<br/>(<span data-sort-value=\"7003123500000000000♠\">1,235</span> km<sup>2</sup>)</td>\n",
       "<td><a class=\"image\" href=\"/wiki/File:Map_of_Maryland_highlighting_Talbot_County.svg\" title=\"State map highlighting Talbot County\"><img alt=\"State map highlighting Talbot County\" data-file-height=\"2019\" data-file-width=\"3858\" decoding=\"async\" height=\"78\" src=\"//upload.wikimedia.org/wikipedia/commons/thumb/3/3b/Map_of_Maryland_highlighting_Talbot_County.svg/150px-Map_of_Maryland_highlighting_Talbot_County.svg.png\" srcset=\"//upload.wikimedia.org/wikipedia/commons/thumb/3/3b/Map_of_Maryland_highlighting_Talbot_County.svg/225px-Map_of_Maryland_highlighting_Talbot_County.svg.png 1.5x, //upload.wikimedia.org/wikipedia/commons/thumb/3/3b/Map_of_Maryland_highlighting_Talbot_County.svg/300px-Map_of_Maryland_highlighting_Talbot_County.svg.png 2x\" width=\"150\"/></a>\n",
       "</td></tr>\n",
       "<tr>\n",
       "<th scope=\"row\"><a href=\"/wiki/Washington_County,_Maryland\" title=\"Washington County, Maryland\">Washington County</a>\n",
       "</th>\n",
       "<td><a class=\"external text\" href=\"http://www.census.gov/quickfacts/table/PST045215/24043,00\" rel=\"nofollow\">043</a>\n",
       "</td>\n",
       "<td><a href=\"/wiki/Hagerstown,_Maryland\" title=\"Hagerstown, Maryland\">Hagerstown</a></td>\n",
       "<td>1776</td>\n",
       "<td>From part of Frederick County</td>\n",
       "<td><a href=\"/wiki/George_Washington\" title=\"George Washington\">George Washington</a>, first <a href=\"/wiki/President_of_the_United_States\" title=\"President of the United States\">President of the United States</a></td>\n",
       "<td><a class=\"image\" href=\"/wiki/File:Flag_of_Washington_County,_Maryland.svg\"><img alt=\"Flag of Washington County, Maryland.svg\" data-file-height=\"1163\" data-file-width=\"1798\" decoding=\"async\" height=\"81\" src=\"//upload.wikimedia.org/wikipedia/commons/thumb/f/f2/Flag_of_Washington_County%2C_Maryland.svg/125px-Flag_of_Washington_County%2C_Maryland.svg.png\" srcset=\"//upload.wikimedia.org/wikipedia/commons/thumb/f/f2/Flag_of_Washington_County%2C_Maryland.svg/188px-Flag_of_Washington_County%2C_Maryland.svg.png 1.5x, //upload.wikimedia.org/wikipedia/commons/thumb/f/f2/Flag_of_Washington_County%2C_Maryland.svg/250px-Flag_of_Washington_County%2C_Maryland.svg.png 2x\" width=\"125\"/></a></td>\n",
       "<td><a href=\"/wiki/File:Washington_County_md_seal.png\" title=\"File:Washington County md seal.png\">Link to image</a>\n",
       "</td>\n",
       "<td><span data-sort-value=\"7005149180000000000♠\">149,180</span>\n",
       "</td>\n",
       "<td><span data-sort-value=\"7002468000000000000♠\">468</span> sq mi<br/>(<span data-sort-value=\"7003121200000000000♠\">1,212</span> km<sup>2</sup>)</td>\n",
       "<td><a class=\"image\" href=\"/wiki/File:Map_of_Maryland_highlighting_Washington_County.svg\" title=\"State map highlighting Washington County\"><img alt=\"State map highlighting Washington County\" data-file-height=\"2019\" data-file-width=\"3858\" decoding=\"async\" height=\"78\" src=\"//upload.wikimedia.org/wikipedia/commons/thumb/4/48/Map_of_Maryland_highlighting_Washington_County.svg/150px-Map_of_Maryland_highlighting_Washington_County.svg.png\" srcset=\"//upload.wikimedia.org/wikipedia/commons/thumb/4/48/Map_of_Maryland_highlighting_Washington_County.svg/225px-Map_of_Maryland_highlighting_Washington_County.svg.png 1.5x, //upload.wikimedia.org/wikipedia/commons/thumb/4/48/Map_of_Maryland_highlighting_Washington_County.svg/300px-Map_of_Maryland_highlighting_Washington_County.svg.png 2x\" width=\"150\"/></a>\n",
       "</td></tr>\n",
       "<tr>\n",
       "<th scope=\"row\"><a href=\"/wiki/Wicomico_County,_Maryland\" title=\"Wicomico County, Maryland\">Wicomico County</a>\n",
       "</th>\n",
       "<td><a class=\"external text\" href=\"http://www.census.gov/quickfacts/table/PST045215/24045,00\" rel=\"nofollow\">045</a>\n",
       "</td>\n",
       "<td><a href=\"/wiki/Salisbury,_Maryland\" title=\"Salisbury, Maryland\">Salisbury</a></td>\n",
       "<td>1867</td>\n",
       "<td>From parts of Somerset County and Worcester County</td>\n",
       "<td>The <a href=\"/wiki/Wicomico_River_(Maryland_eastern_shore)\" title=\"Wicomico River (Maryland eastern shore)\">Wicomico River</a>; in <a href=\"/wiki/Lenape\" title=\"Lenape\">Lenape</a>, <i>wicko mekee</i> indicated \"a place where houses are built,\" possibly in reference to a settlement</td>\n",
       "<td><a class=\"image\" href=\"/wiki/File:Flag_of_Wicomico_County,_Maryland.gif\"><img alt=\"Flag of Wicomico County, Maryland.gif\" data-file-height=\"240\" data-file-width=\"400\" decoding=\"async\" height=\"75\" src=\"//upload.wikimedia.org/wikipedia/commons/thumb/e/e9/Flag_of_Wicomico_County%2C_Maryland.gif/125px-Flag_of_Wicomico_County%2C_Maryland.gif\" srcset=\"//upload.wikimedia.org/wikipedia/commons/thumb/e/e9/Flag_of_Wicomico_County%2C_Maryland.gif/188px-Flag_of_Wicomico_County%2C_Maryland.gif 1.5x, //upload.wikimedia.org/wikipedia/commons/thumb/e/e9/Flag_of_Wicomico_County%2C_Maryland.gif/250px-Flag_of_Wicomico_County%2C_Maryland.gif 2x\" width=\"125\"/></a></td>\n",
       "<td><a class=\"image\" href=\"/wiki/File:Seal_of_Wicomico_County,_Maryland.png\"><img alt=\"Seal of Wicomico County, Maryland.png\" data-file-height=\"180\" data-file-width=\"180\" decoding=\"async\" height=\"75\" src=\"//upload.wikimedia.org/wikipedia/commons/thumb/a/af/Seal_of_Wicomico_County%2C_Maryland.png/75px-Seal_of_Wicomico_County%2C_Maryland.png\" srcset=\"//upload.wikimedia.org/wikipedia/commons/thumb/a/af/Seal_of_Wicomico_County%2C_Maryland.png/113px-Seal_of_Wicomico_County%2C_Maryland.png 1.5x, //upload.wikimedia.org/wikipedia/commons/thumb/a/af/Seal_of_Wicomico_County%2C_Maryland.png/150px-Seal_of_Wicomico_County%2C_Maryland.png 2x\" width=\"75\"/></a>\n",
       "</td>\n",
       "<td><span data-sort-value=\"7005100647000000000♠\">100,647</span>\n",
       "</td>\n",
       "<td><span data-sort-value=\"7002400000000000000♠\">400</span> sq mi<br/>(<span data-sort-value=\"7003103600000000000♠\">1,036</span> km<sup>2</sup>)</td>\n",
       "<td><a class=\"image\" href=\"/wiki/File:Map_of_Maryland_highlighting_Wicomico_County.svg\" title=\"State map highlighting Wicomico County\"><img alt=\"State map highlighting Wicomico County\" data-file-height=\"2019\" data-file-width=\"3858\" decoding=\"async\" height=\"78\" src=\"//upload.wikimedia.org/wikipedia/commons/thumb/8/8d/Map_of_Maryland_highlighting_Wicomico_County.svg/150px-Map_of_Maryland_highlighting_Wicomico_County.svg.png\" srcset=\"//upload.wikimedia.org/wikipedia/commons/thumb/8/8d/Map_of_Maryland_highlighting_Wicomico_County.svg/225px-Map_of_Maryland_highlighting_Wicomico_County.svg.png 1.5x, //upload.wikimedia.org/wikipedia/commons/thumb/8/8d/Map_of_Maryland_highlighting_Wicomico_County.svg/300px-Map_of_Maryland_highlighting_Wicomico_County.svg.png 2x\" width=\"150\"/></a>\n",
       "</td></tr>\n",
       "<tr>\n",
       "<th scope=\"row\"><a href=\"/wiki/Worcester_County,_Maryland\" title=\"Worcester County, Maryland\">Worcester County</a>\n",
       "</th>\n",
       "<td><a class=\"external text\" href=\"http://www.census.gov/quickfacts/table/PST045215/24047,00\" rel=\"nofollow\">047</a>\n",
       "</td>\n",
       "<td><a href=\"/wiki/Snow_Hill,_Maryland\" title=\"Snow Hill, Maryland\">Snow Hill</a></td>\n",
       "<td>1742</td>\n",
       "<td>From part of Somerset County</td>\n",
       "<td>Mary Arundell, the wife of Sir John Somerset, son of <a href=\"/wiki/Henry_Somerset,_1st_Marquess_of_Worcester\" title=\"Henry Somerset, 1st Marquess of Worcester\">Henry Somerset, 1st Marquess of Worcester</a>, and sister of Anne Arundell, the wife of <a href=\"/wiki/Cecil_Calvert,_2nd_Baron_Baltimore\" title=\"Cecil Calvert, 2nd Baron Baltimore\">Cecil Calvert, 2nd Baron Baltimore</a></td>\n",
       "<td><a class=\"image\" href=\"/wiki/File:Flag_of_Worcester_County,_Maryland.svg\"><img alt=\"Flag of Worcester County, Maryland.svg\" data-file-height=\"1410\" data-file-width=\"2179\" decoding=\"async\" height=\"81\" src=\"//upload.wikimedia.org/wikipedia/commons/thumb/6/6c/Flag_of_Worcester_County%2C_Maryland.svg/125px-Flag_of_Worcester_County%2C_Maryland.svg.png\" srcset=\"//upload.wikimedia.org/wikipedia/commons/thumb/6/6c/Flag_of_Worcester_County%2C_Maryland.svg/188px-Flag_of_Worcester_County%2C_Maryland.svg.png 1.5x, //upload.wikimedia.org/wikipedia/commons/thumb/6/6c/Flag_of_Worcester_County%2C_Maryland.svg/250px-Flag_of_Worcester_County%2C_Maryland.svg.png 2x\" width=\"125\"/></a></td>\n",
       "<td><a class=\"image\" href=\"/wiki/File:Seal_of_Worcester_County,_Maryland.png\"><img alt=\"Seal of Worcester County, Maryland.png\" data-file-height=\"999\" data-file-width=\"999\" decoding=\"async\" height=\"75\" src=\"//upload.wikimedia.org/wikipedia/commons/thumb/7/70/Seal_of_Worcester_County%2C_Maryland.png/75px-Seal_of_Worcester_County%2C_Maryland.png\" srcset=\"//upload.wikimedia.org/wikipedia/commons/thumb/7/70/Seal_of_Worcester_County%2C_Maryland.png/113px-Seal_of_Worcester_County%2C_Maryland.png 1.5x, //upload.wikimedia.org/wikipedia/commons/thumb/7/70/Seal_of_Worcester_County%2C_Maryland.png/150px-Seal_of_Worcester_County%2C_Maryland.png 2x\" width=\"75\"/></a>\n",
       "</td>\n",
       "<td><span data-sort-value=\"7004515780000000000♠\">51,578</span>\n",
       "</td>\n",
       "<td><span data-sort-value=\"7002695000000000000♠\">695</span> sq mi<br/>(<span data-sort-value=\"7003180000000000000♠\">1,800</span> km<sup>2</sup>)</td>\n",
       "<td><a class=\"image\" href=\"/wiki/File:Map_of_Maryland_highlighting_Worcester_County.svg\" title=\"State map highlighting Worcester County\"><img alt=\"State map highlighting Worcester County\" data-file-height=\"2019\" data-file-width=\"3858\" decoding=\"async\" height=\"78\" src=\"//upload.wikimedia.org/wikipedia/commons/thumb/9/93/Map_of_Maryland_highlighting_Worcester_County.svg/150px-Map_of_Maryland_highlighting_Worcester_County.svg.png\" srcset=\"//upload.wikimedia.org/wikipedia/commons/thumb/9/93/Map_of_Maryland_highlighting_Worcester_County.svg/225px-Map_of_Maryland_highlighting_Worcester_County.svg.png 1.5x, //upload.wikimedia.org/wikipedia/commons/thumb/9/93/Map_of_Maryland_highlighting_Worcester_County.svg/300px-Map_of_Maryland_highlighting_Worcester_County.svg.png 2x\" width=\"150\"/></a>\n",
       "</td></tr></tbody></table>"
      ]
     },
     "execution_count": 7,
     "metadata": {},
     "output_type": "execute_result"
    }
   ],
   "source": [
    "# find the table we need on the page\n",
    "\n",
    "raw_HTML.find('table', class_= 'wikitable sortable')"
   ]
  },
  {
   "cell_type": "code",
   "execution_count": 8,
   "metadata": {},
   "outputs": [],
   "source": [
    "# Define table as variable\n",
    "\n",
    "table = raw_HTML.find('table', class_= 'wikitable sortable')"
   ]
  },
  {
   "cell_type": "code",
   "execution_count": 9,
   "metadata": {},
   "outputs": [
    {
     "data": {
      "text/plain": [
       "[<tr>\n",
       " <th scope=\"col\" style=\"vertical-align: top; width: 90px;\">County<br/>\n",
       " </th>\n",
       " <th scope=\"col\" style=\"vertical-align: top; width:75px;\"><abbr title=\"Federal Information Processing Standard\">FIPS</abbr> code<sup class=\"reference\" id=\"cite_ref-FIPS_5-0\"><a href=\"#cite_note-FIPS-5\">[5]</a></sup>\n",
       " </th>\n",
       " <th scope=\"col\" style=\"vertical-align: top; width: ;\"><a href=\"/wiki/County_seat\" title=\"County seat\">County seat</a><sup class=\"reference\" id=\"cite_ref-Manual_2-1\"><a href=\"#cite_note-Manual-2\">[2]</a></sup><sup class=\"reference\" id=\"cite_ref-NACO_6-0\"><a href=\"#cite_note-NACO-6\">[6]</a></sup>\n",
       " </th>\n",
       " <th scope=\"col\" style=\"vertical-align: top; width: ;\"><abbr title=\"Established\">Est.</abbr><sup class=\"reference\" id=\"cite_ref-Manual_2-2\"><a href=\"#cite_note-Manual-2\">[2]</a></sup><sup class=\"reference\" id=\"cite_ref-NACO_6-1\"><a href=\"#cite_note-NACO-6\">[6]</a></sup>\n",
       " </th>\n",
       " <th scope=\"col\" style=\"vertical-align: top;\">Origin<sup class=\"reference\" id=\"cite_ref-Manual_2-3\"><a href=\"#cite_note-Manual-2\">[2]</a></sup>\n",
       " </th>\n",
       " <th class=\"unsortable\" scope=\"col\" style=\"vertical-align: top;\">Etymology<sup class=\"reference\" id=\"cite_ref-Manual_2-4\"><a href=\"#cite_note-Manual-2\">[2]</a></sup></th>\n",
       " <th style=\"vertical-align: top;\">Flag<br/></th>\n",
       " <th style=\"vertical-align: top;\">Seal<br/>\n",
       " </th>\n",
       " <th scope=\"col\" style=\"vertical-align: top; width: 90px;\">Population<sup class=\"reference\" id=\"cite_ref-7\"><a href=\"#cite_note-7\">[7]</a></sup>\n",
       " </th>\n",
       " <th scope=\"col\" style=\"vertical-align: top; width: 75px;\">Area<sup class=\"reference\" id=\"cite_ref-NACO_6-2\"><a href=\"#cite_note-NACO-6\">[6]</a></sup><sup class=\"reference\" id=\"cite_ref-QF_8-0\"><a href=\"#cite_note-QF-8\">[8]</a></sup>\n",
       " </th>\n",
       " <th class=\"unsortable\" scope=\"col\" style=\"vertical-align: top; width: 80px;\">Map\n",
       " </th></tr>]"
      ]
     },
     "execution_count": 9,
     "metadata": {},
     "output_type": "execute_result"
    }
   ],
   "source": [
    "# Review header row\n",
    "\n",
    "table.find_all('tr')[:1]"
   ]
  },
  {
   "cell_type": "code",
   "execution_count": 10,
   "metadata": {},
   "outputs": [],
   "source": [
    "# Define tabledata variable as all rows except the first one\n",
    "\n",
    "tabledata = table.find_all('tr')[1:]"
   ]
  },
  {
   "cell_type": "code",
   "execution_count": 11,
   "metadata": {},
   "outputs": [
    {
     "data": {
      "text/plain": [
       "[<tr>\n",
       " <th scope=\"row\"><a href=\"/wiki/Allegany_County,_Maryland\" title=\"Allegany County, Maryland\">Allegany County</a>\n",
       " </th>\n",
       " <td><a class=\"external text\" href=\"http://www.census.gov/quickfacts/table/PST045215/24001,00\" rel=\"nofollow\">001</a>\n",
       " </td>\n",
       " <td><a href=\"/wiki/Cumberland,_Maryland\" title=\"Cumberland, Maryland\">Cumberland</a></td>\n",
       " <td>1789</td>\n",
       " <td>Formed from part of Washington County.</td>\n",
       " <td>From the Lenape Indian word <b>oolikhanna</b>, which means \"beautiful stream\"</td>\n",
       " <td><a class=\"image\" href=\"/wiki/File:Flag_of_Allegany_County,_Maryland.png\"><img alt=\"Flag of Allegany County, Maryland.png\" data-file-height=\"240\" data-file-width=\"400\" decoding=\"async\" height=\"75\" src=\"//upload.wikimedia.org/wikipedia/commons/thumb/0/0a/Flag_of_Allegany_County%2C_Maryland.png/125px-Flag_of_Allegany_County%2C_Maryland.png\" srcset=\"//upload.wikimedia.org/wikipedia/commons/thumb/0/0a/Flag_of_Allegany_County%2C_Maryland.png/188px-Flag_of_Allegany_County%2C_Maryland.png 1.5x, //upload.wikimedia.org/wikipedia/commons/thumb/0/0a/Flag_of_Allegany_County%2C_Maryland.png/250px-Flag_of_Allegany_County%2C_Maryland.png 2x\" width=\"125\"/></a></td>\n",
       " <td><a class=\"image\" href=\"/wiki/File:Seal_of_Allegany_County,_Maryland.png\"><img alt=\"Seal of Allegany County, Maryland.png\" data-file-height=\"1455\" data-file-width=\"1455\" decoding=\"async\" height=\"75\" src=\"//upload.wikimedia.org/wikipedia/commons/thumb/c/c6/Seal_of_Allegany_County%2C_Maryland.png/75px-Seal_of_Allegany_County%2C_Maryland.png\" srcset=\"//upload.wikimedia.org/wikipedia/commons/thumb/c/c6/Seal_of_Allegany_County%2C_Maryland.png/113px-Seal_of_Allegany_County%2C_Maryland.png 1.5x, //upload.wikimedia.org/wikipedia/commons/thumb/c/c6/Seal_of_Allegany_County%2C_Maryland.png/150px-Seal_of_Allegany_County%2C_Maryland.png 2x\" width=\"75\"/></a>\n",
       " </td>\n",
       " <td><span data-sort-value=\"7004740120000000000♠\">74,012</span>\n",
       " </td>\n",
       " <td><span data-sort-value=\"7002430000000000000♠\">430</span> sq mi<br/>(<span data-sort-value=\"7003111400000000000♠\">1,114</span> km<sup>2</sup>)</td>\n",
       " <td><a class=\"image\" href=\"/wiki/File:Map_of_Maryland_highlighting_Allegany_County.svg\" title=\"State map highlighting Allegany County\"><img alt=\"State map highlighting Allegany County\" data-file-height=\"2019\" data-file-width=\"3858\" decoding=\"async\" height=\"78\" src=\"//upload.wikimedia.org/wikipedia/commons/thumb/c/c9/Map_of_Maryland_highlighting_Allegany_County.svg/150px-Map_of_Maryland_highlighting_Allegany_County.svg.png\" srcset=\"//upload.wikimedia.org/wikipedia/commons/thumb/c/c9/Map_of_Maryland_highlighting_Allegany_County.svg/225px-Map_of_Maryland_highlighting_Allegany_County.svg.png 1.5x, //upload.wikimedia.org/wikipedia/commons/thumb/c/c9/Map_of_Maryland_highlighting_Allegany_County.svg/300px-Map_of_Maryland_highlighting_Allegany_County.svg.png 2x\" width=\"150\"/></a>\n",
       " </td></tr>,\n",
       " <tr>\n",
       " <th scope=\"row\"><a href=\"/wiki/Anne_Arundel_County,_Maryland\" title=\"Anne Arundel County, Maryland\">Anne Arundel County</a>\n",
       " </th>\n",
       " <td><a class=\"external text\" href=\"http://www.census.gov/quickfacts/table/PST045215/24003,00\" rel=\"nofollow\">003</a>\n",
       " </td>\n",
       " <td><a href=\"/wiki/Annapolis,_Maryland\" title=\"Annapolis, Maryland\">Annapolis</a></td>\n",
       " <td>1650</td>\n",
       " <td>Formed from part of St. Mary's County.</td>\n",
       " <td><a href=\"/wiki/Anne_Arundell\" title=\"Anne Arundell\">Anne Arundell</a> was the maiden name of the wife of <a href=\"/wiki/Cecil_Calvert,_2nd_Baron_Baltimore\" title=\"Cecil Calvert, 2nd Baron Baltimore\">Cecil Calvert, 2nd Baron Baltimore</a>. Between 1654 and 1658 it was known as <a class=\"mw-redirect\" href=\"/wiki/Divine_Providence\" title=\"Divine Providence\">Providence</a> County by <a class=\"mw-redirect\" href=\"/wiki/Puritan\" title=\"Puritan\">Puritan</a> settlers</td>\n",
       " <td><a class=\"image\" href=\"/wiki/File:Flag_of_Anne_Arundel_County,_Maryland.svg\"><img alt=\"Flag of Anne Arundel County, Maryland.svg\" data-file-height=\"2157\" data-file-width=\"3636\" decoding=\"async\" height=\"74\" src=\"//upload.wikimedia.org/wikipedia/commons/thumb/a/a3/Flag_of_Anne_Arundel_County%2C_Maryland.svg/125px-Flag_of_Anne_Arundel_County%2C_Maryland.svg.png\" srcset=\"//upload.wikimedia.org/wikipedia/commons/thumb/a/a3/Flag_of_Anne_Arundel_County%2C_Maryland.svg/188px-Flag_of_Anne_Arundel_County%2C_Maryland.svg.png 1.5x, //upload.wikimedia.org/wikipedia/commons/thumb/a/a3/Flag_of_Anne_Arundel_County%2C_Maryland.svg/250px-Flag_of_Anne_Arundel_County%2C_Maryland.svg.png 2x\" width=\"125\"/></a></td>\n",
       " <td><a class=\"image\" href=\"/wiki/File:Seal_of_Anne_Arundel_County,_Maryland.svg\"><img alt=\"Seal of Anne Arundel County, Maryland.svg\" data-file-height=\"320\" data-file-width=\"280\" decoding=\"async\" height=\"86\" src=\"//upload.wikimedia.org/wikipedia/commons/thumb/7/71/Seal_of_Anne_Arundel_County%2C_Maryland.svg/75px-Seal_of_Anne_Arundel_County%2C_Maryland.svg.png\" srcset=\"//upload.wikimedia.org/wikipedia/commons/thumb/7/71/Seal_of_Anne_Arundel_County%2C_Maryland.svg/113px-Seal_of_Anne_Arundel_County%2C_Maryland.svg.png 1.5x, //upload.wikimedia.org/wikipedia/commons/thumb/7/71/Seal_of_Anne_Arundel_County%2C_Maryland.svg/150px-Seal_of_Anne_Arundel_County%2C_Maryland.svg.png 2x\" width=\"75\"/></a>\n",
       " </td>\n",
       " <td><span data-sort-value=\"7005550488000000000♠\">550,488</span>\n",
       " </td>\n",
       " <td><span data-sort-value=\"7002588000000000000♠\">588</span> sq mi<br/>(<span data-sort-value=\"7003152300000000000♠\">1,523</span> km<sup>2</sup>)</td>\n",
       " <td><a class=\"image\" href=\"/wiki/File:Map_of_Maryland_highlighting_Anne_Arundel_County.svg\" title=\"State map highlighting Anne Arundel County\"><img alt=\"State map highlighting Anne Arundel County\" data-file-height=\"2019\" data-file-width=\"3858\" decoding=\"async\" height=\"78\" src=\"//upload.wikimedia.org/wikipedia/commons/thumb/0/0a/Map_of_Maryland_highlighting_Anne_Arundel_County.svg/150px-Map_of_Maryland_highlighting_Anne_Arundel_County.svg.png\" srcset=\"//upload.wikimedia.org/wikipedia/commons/thumb/0/0a/Map_of_Maryland_highlighting_Anne_Arundel_County.svg/225px-Map_of_Maryland_highlighting_Anne_Arundel_County.svg.png 1.5x, //upload.wikimedia.org/wikipedia/commons/thumb/0/0a/Map_of_Maryland_highlighting_Anne_Arundel_County.svg/300px-Map_of_Maryland_highlighting_Anne_Arundel_County.svg.png 2x\" width=\"150\"/></a>\n",
       " </td></tr>]"
      ]
     },
     "execution_count": 11,
     "metadata": {},
     "output_type": "execute_result"
    }
   ],
   "source": [
    "# Look at the first two rows\n",
    "\n",
    "tabledata[:2]"
   ]
  },
  {
   "cell_type": "code",
   "execution_count": 12,
   "metadata": {},
   "outputs": [
    {
     "data": {
      "text/plain": [
       "[<th scope=\"row\"><a href=\"/wiki/Allegany_County,_Maryland\" title=\"Allegany County, Maryland\">Allegany County</a>\n",
       " </th>]"
      ]
     },
     "execution_count": 12,
     "metadata": {},
     "output_type": "execute_result"
    }
   ],
   "source": [
    "# Look for County Name in first row as TH tag\n",
    "\n",
    "tabledata[0].find_all('th')"
   ]
  },
  {
   "cell_type": "code",
   "execution_count": 13,
   "metadata": {},
   "outputs": [
    {
     "data": {
      "text/plain": [
       "[<td><a class=\"external text\" href=\"http://www.census.gov/quickfacts/table/PST045215/24001,00\" rel=\"nofollow\">001</a>\n",
       " </td>,\n",
       " <td><a href=\"/wiki/Cumberland,_Maryland\" title=\"Cumberland, Maryland\">Cumberland</a></td>,\n",
       " <td>1789</td>,\n",
       " <td>Formed from part of Washington County.</td>,\n",
       " <td>From the Lenape Indian word <b>oolikhanna</b>, which means \"beautiful stream\"</td>,\n",
       " <td><a class=\"image\" href=\"/wiki/File:Flag_of_Allegany_County,_Maryland.png\"><img alt=\"Flag of Allegany County, Maryland.png\" data-file-height=\"240\" data-file-width=\"400\" decoding=\"async\" height=\"75\" src=\"//upload.wikimedia.org/wikipedia/commons/thumb/0/0a/Flag_of_Allegany_County%2C_Maryland.png/125px-Flag_of_Allegany_County%2C_Maryland.png\" srcset=\"//upload.wikimedia.org/wikipedia/commons/thumb/0/0a/Flag_of_Allegany_County%2C_Maryland.png/188px-Flag_of_Allegany_County%2C_Maryland.png 1.5x, //upload.wikimedia.org/wikipedia/commons/thumb/0/0a/Flag_of_Allegany_County%2C_Maryland.png/250px-Flag_of_Allegany_County%2C_Maryland.png 2x\" width=\"125\"/></a></td>,\n",
       " <td><a class=\"image\" href=\"/wiki/File:Seal_of_Allegany_County,_Maryland.png\"><img alt=\"Seal of Allegany County, Maryland.png\" data-file-height=\"1455\" data-file-width=\"1455\" decoding=\"async\" height=\"75\" src=\"//upload.wikimedia.org/wikipedia/commons/thumb/c/c6/Seal_of_Allegany_County%2C_Maryland.png/75px-Seal_of_Allegany_County%2C_Maryland.png\" srcset=\"//upload.wikimedia.org/wikipedia/commons/thumb/c/c6/Seal_of_Allegany_County%2C_Maryland.png/113px-Seal_of_Allegany_County%2C_Maryland.png 1.5x, //upload.wikimedia.org/wikipedia/commons/thumb/c/c6/Seal_of_Allegany_County%2C_Maryland.png/150px-Seal_of_Allegany_County%2C_Maryland.png 2x\" width=\"75\"/></a>\n",
       " </td>,\n",
       " <td><span data-sort-value=\"7004740120000000000♠\">74,012</span>\n",
       " </td>,\n",
       " <td><span data-sort-value=\"7002430000000000000♠\">430</span> sq mi<br/>(<span data-sort-value=\"7003111400000000000♠\">1,114</span> km<sup>2</sup>)</td>,\n",
       " <td><a class=\"image\" href=\"/wiki/File:Map_of_Maryland_highlighting_Allegany_County.svg\" title=\"State map highlighting Allegany County\"><img alt=\"State map highlighting Allegany County\" data-file-height=\"2019\" data-file-width=\"3858\" decoding=\"async\" height=\"78\" src=\"//upload.wikimedia.org/wikipedia/commons/thumb/c/c9/Map_of_Maryland_highlighting_Allegany_County.svg/150px-Map_of_Maryland_highlighting_Allegany_County.svg.png\" srcset=\"//upload.wikimedia.org/wikipedia/commons/thumb/c/c9/Map_of_Maryland_highlighting_Allegany_County.svg/225px-Map_of_Maryland_highlighting_Allegany_County.svg.png 1.5x, //upload.wikimedia.org/wikipedia/commons/thumb/c/c9/Map_of_Maryland_highlighting_Allegany_County.svg/300px-Map_of_Maryland_highlighting_Allegany_County.svg.png 2x\" width=\"150\"/></a>\n",
       " </td>]"
      ]
     },
     "execution_count": 13,
     "metadata": {},
     "output_type": "execute_result"
    }
   ],
   "source": [
    "#look for fields in first row with TD tags\n",
    "\n",
    "tabledata[0].find_all('td')"
   ]
  },
  {
   "cell_type": "code",
   "execution_count": 14,
   "metadata": {},
   "outputs": [],
   "source": [
    "# Set variable for county name\n",
    "first_rowFC = tabledata[0].find_all('th')"
   ]
  },
  {
   "cell_type": "code",
   "execution_count": 15,
   "metadata": {},
   "outputs": [
    {
     "data": {
      "text/plain": [
       "<th scope=\"row\"><a href=\"/wiki/Allegany_County,_Maryland\" title=\"Allegany County, Maryland\">Allegany County</a>\n",
       "</th>"
      ]
     },
     "execution_count": 15,
     "metadata": {},
     "output_type": "execute_result"
    }
   ],
   "source": [
    "# View county name variable value\n",
    "first_rowFC[0]"
   ]
  },
  {
   "cell_type": "code",
   "execution_count": 16,
   "metadata": {},
   "outputs": [
    {
     "data": {
      "text/plain": [
       "'Allegany County\\n'"
      ]
     },
     "execution_count": 16,
     "metadata": {},
     "output_type": "execute_result"
    }
   ],
   "source": [
    "# Confirm that I can extract just the text from the th tag without the a tag.\n",
    "\n",
    "first_rowFC[0].text"
   ]
  },
  {
   "cell_type": "code",
   "execution_count": 17,
   "metadata": {},
   "outputs": [],
   "source": [
    "# Set variable for county data\n",
    "first_row = tabledata[0].find_all('td')"
   ]
  },
  {
   "cell_type": "code",
   "execution_count": 18,
   "metadata": {},
   "outputs": [
    {
     "data": {
      "text/plain": [
       "<td><a class=\"external text\" href=\"http://www.census.gov/quickfacts/table/PST045215/24001,00\" rel=\"nofollow\">001</a>\n",
       "</td>"
      ]
     },
     "execution_count": 18,
     "metadata": {},
     "output_type": "execute_result"
    }
   ],
   "source": [
    "# View county data variable value\n",
    "first_row[0]"
   ]
  },
  {
   "cell_type": "code",
   "execution_count": 19,
   "metadata": {},
   "outputs": [
    {
     "data": {
      "text/plain": [
       "'001\\n'"
      ]
     },
     "execution_count": 19,
     "metadata": {},
     "output_type": "execute_result"
    }
   ],
   "source": [
    "# Confirm that I can extract just the text from the td tag without the a tag.\n",
    "\n",
    "first_row[0].text"
   ]
  },
  {
   "cell_type": "code",
   "execution_count": 20,
   "metadata": {},
   "outputs": [
    {
     "name": "stdout",
     "output_type": "stream",
     "text": [
      "001\n",
      "\n",
      "Cumberland\n",
      "1789\n",
      "Formed from part of Washington County.\n",
      "From the Lenape Indian word oolikhanna, which means \"beautiful stream\"\n",
      "\n",
      "\n",
      "\n",
      "74,012\n",
      "\n",
      "430 sq mi(1,114 km2)\n",
      "\n",
      "\n"
     ]
    }
   ],
   "source": [
    "# View county data variable value\n",
    "\n",
    "for data in first_row:\n",
    "    print(data.text)"
   ]
  },
  {
   "cell_type": "code",
   "execution_count": 21,
   "metadata": {},
   "outputs": [],
   "source": [
    "# Create County Info dictionary\n",
    "\n",
    "county_info = {'FIPS_Code':[],\n",
    "              'County_Seat':[],\n",
    "              'Year_Established':[],\n",
    "              'Origin':[],\n",
    "              'Etymology':[],\n",
    "              'del1':[],\n",
    "              'del2':[],\n",
    "              'Population':[],\n",
    "              'Area':[],\n",
    "              'del3':[],}"
   ]
  },
  {
   "cell_type": "code",
   "execution_count": 22,
   "metadata": {},
   "outputs": [
    {
     "data": {
      "text/plain": [
       "dict_values([[], [], [], [], [], [], [], [], [], []])"
      ]
     },
     "execution_count": 22,
     "metadata": {},
     "output_type": "execute_result"
    }
   ],
   "source": [
    "# Confirm initial values\n",
    "county_info.values()"
   ]
  },
  {
   "cell_type": "code",
   "execution_count": 23,
   "metadata": {},
   "outputs": [
    {
     "name": "stdout",
     "output_type": "stream",
     "text": [
      "0 []\n",
      "1 []\n",
      "2 []\n",
      "3 []\n",
      "4 []\n",
      "5 []\n",
      "6 []\n",
      "7 []\n",
      "8 []\n",
      "9 []\n"
     ]
    }
   ],
   "source": [
    "# Look at row indices for each item\n",
    "for index, item in enumerate(county_info.values()):\n",
    "    print(index, item)"
   ]
  },
  {
   "cell_type": "code",
   "execution_count": 24,
   "metadata": {},
   "outputs": [],
   "source": [
    "# loop through each <tr> tag\n",
    "for row in tabledata:\n",
    "    \n",
    "    # get a list of <td> tags for that row\n",
    "    row_data = row.find_all('td')\n",
    "    \n",
    "    # get a list of the values (empty lists) from the dictionary\n",
    "    # loop through the index number and each item (empty list)\n",
    "    for index, item in enumerate(county_info.values()):\n",
    "        \n",
    "        # access the data from the <td> tag with the same index position as the empty list\n",
    "        data = row_data[index].text\n",
    " \n",
    "        # replace the unicode nonbreaking space code with a regular space\n",
    "        data = data.replace(u'\\xa0', u' ')\n",
    "\n",
    "        # check if the data is a newline or empty string\n",
    "        # if so, store a null value\n",
    "        if (data == \"\\n\") or (data == ''):\n",
    "            item.append(np.nan)\n",
    "        \n",
    "        # otherwise, store the actual data from that cell and strip out the /n wherever it appears\n",
    "        else:\n",
    "            item.append(data.strip())\n"
   ]
  },
  {
   "cell_type": "code",
   "execution_count": 25,
   "metadata": {},
   "outputs": [
    {
     "name": "stdout",
     "output_type": "stream",
     "text": [
      "{'FIPS_Code': ['001', '003', '005', '510', '009', '011', '013', '015', '017', '019', '021', '023', '025', '027', '029', '031', '033', '035', '039', '037', '041', '043', '045', '047'], 'County_Seat': ['Cumberland', 'Annapolis', 'Towson', 'Baltimore City', 'Prince Frederick', 'Denton', 'Westminster', 'Elkton', 'La Plata', 'Cambridge', 'Frederick', 'Oakland', 'Bel Air', 'Ellicott City', 'Chestertown', 'Rockville', 'Upper Marlboro', 'Centreville', 'Princess Anne', 'Leonardtown', 'Easton', 'Hagerstown', 'Salisbury', 'Snow Hill'], 'Year_Established': ['1789', '1650', '1659', '1851', '1654', '1773', '1837', '1672', '1658', '1668', '1748', '1872', '1773', '1851', '1642', '1776', '1696', '1706', '1666', '1637', '1662', '1776', '1867', '1742'], 'Origin': ['Formed from part of Washington County.', \"Formed from part of St. Mary's County.\", 'Formed from unorganized territory', 'Founded in 1729. Detached in 1851 from Baltimore County', 'Formed as Patuxent County from unorganized territory. Renamed Calvert County in 1658', \"From parts of Dorchester County and Queen Anne's County\", 'From parts of Baltimore County and Frederick County', 'From parts of Baltimore County and Kent County', 'From unorganized territory', 'From unorganized territory', \"From part of Prince George's County\", 'From part of Allegany County', 'From part of Baltimore County', 'From parts of Anne Arundel County and Baltimore County', 'From unorganized territory', 'From part of Frederick County', 'From parts of Calvert County and Charles County', 'From parts of Talbot County', 'From unorganized territory.', 'From unorganized territory. Was named Potomac County between 1654 and 1658.', 'From part of Kent County', 'From part of Frederick County', 'From parts of Somerset County and Worcester County', 'From part of Somerset County'], 'Etymology': ['From the Lenape Indian word oolikhanna, which means \"beautiful stream\"', 'Anne Arundell was the maiden name of the wife of Cecil Calvert, 2nd Baron Baltimore. Between 1654 and 1658 it was known as Providence County by Puritan settlers', 'Cecil Calvert, 2nd Baron Baltimore, first proprietor of the Maryland colony', 'Cecil Calvert, 2nd Baron Baltimore, first proprietor of the Maryland colony', 'The Calvert family; prior to 1658 it was called Patuxent County, after the Patuxent Indians, a branch of the Algonquians', 'Lady Caroline Eden, daughter of Charles Calvert, 5th Baron Baltimore', 'Charles Carroll of Carrollton, a representative to the Continental Congress and signatory of the Declaration of Independence', 'Cecil is an Anglicized form of the first name of Cecil Calvert, 2nd Baron Baltimore', 'Charles Calvert, 3rd Baron Baltimore, second proprietor of the Maryland colony', 'Dorchester in Dorset, England; the Earl of Dorset was a friend of the Calvert family', 'Frederick Calvert, 6th Baron Baltimore, final proprietor of the Maryland colony', 'John Work Garrett, president of the Baltimore and Ohio Railroad', 'Henry Harford, illegitimate son of Frederick Calvert, 6th Baron Baltimore', 'John Eager Howard, an American Revolutionary War officer and governor of Maryland', 'The English county of Kent', 'Richard Montgomery, an American Revolutionary War general', 'Prince George of Denmark, the husband of Queen Anne of Great Britain', 'Anne, Queen of Great Britain', 'Mary, Lady Somerset, sister-in-law of Cecil Calvert, 2nd Baron Baltimore', 'The Virgin Mary, first county named in a colony intended to be a haven for Catholics', 'Grace, Lady Talbot, sister of Cecil Calvert, 2nd Baron Baltimore', 'George Washington, first President of the United States', 'The Wicomico River; in Lenape, wicko mekee indicated \"a place where houses are built,\" possibly in reference to a settlement', 'Mary Arundell, the wife of Sir John Somerset, son of Henry Somerset, 1st Marquess of Worcester, and sister of Anne Arundell, the wife of Cecil Calvert, 2nd Baron Baltimore'], 'del1': [nan, nan, nan, nan, nan, nan, nan, nan, nan, nan, nan, nan, nan, nan, nan, nan, nan, nan, nan, nan, nan, nan, nan, nan], 'del2': [nan, nan, nan, nan, nan, nan, nan, nan, nan, nan, nan, nan, nan, nan, nan, nan, nan, nan, nan, nan, nan, 'Link to image', nan, nan], 'Population': ['74,012', '550,488', '817,455', '621,342', '89,628', '32,718', '167,217', '101,696', '150,592', '32,551', '239,582', '29,854', '248,622', '299,430', '20,191', '1,004,709', '881,138', '48,595', '26,253', '108,987', '38,098', '149,180', '100,647', '51,578'], 'Area': ['430 sq mi(1,114 km2)', '588 sq mi(1,523 km2)', '682 sq mi(1,766 km2)', '92 sq mi(238 km2)', '345 sq mi(894 km2)', '326 sq mi(844 km2)', '452 sq mi(1,171 km2)', '418 sq mi(1,083 km2)', '643 sq mi(1,665 km2)', '540 sq mi(1,399 km2)', '667 sq mi(1,728 km2)', '656 sq mi(1,699 km2)', '527 sq mi(1,365 km2)', '254 sq mi(658 km2)', '414 sq mi(1,072 km2)', '507 sq mi(1,313 km2)', '498 sq mi(1,290 km2)', '510 sq mi(1,321 km2)', '611 sq mi(1,582 km2)', '611 sq mi(1,582 km2)', '477 sq mi(1,235 km2)', '468 sq mi(1,212 km2)', '400 sq mi(1,036 km2)', '695 sq mi(1,800 km2)'], 'del3': [nan, nan, nan, nan, nan, nan, nan, nan, nan, nan, nan, nan, nan, nan, nan, nan, nan, nan, nan, nan, nan, nan, nan, nan]}\n"
     ]
    }
   ],
   "source": [
    "# Review County Info Dictionary data now\n",
    "\n",
    "print(county_info)"
   ]
  },
  {
   "cell_type": "code",
   "execution_count": 26,
   "metadata": {},
   "outputs": [
    {
     "name": "stdout",
     "output_type": "stream",
     "text": [
      "['Allegany County', 'Anne Arundel County', 'Baltimore County', 'Baltimore City', 'Calvert County', 'Caroline County', 'Carroll County', 'Cecil County', 'Charles County', 'Dorchester County', 'Frederick County', 'Garrett County', 'Harford County', 'Howard County', 'Kent County', 'Montgomery County', \"Prince George's County\", \"Queen Anne's County\", 'Somerset County', \"St. Mary's County\", 'Talbot County', 'Washington County', 'Wicomico County', 'Worcester County']\n"
     ]
    }
   ],
   "source": [
    "# Initialize the County List\n",
    "countylist = []\n",
    "\n",
    "# Add each county name to the County List\n",
    "for row in tabledata:    \n",
    "    name_data = row.find_all('th')\n",
    "    namedata = name_data[0].text  \n",
    "    countylist.append(namedata.strip())\n",
    "\n",
    "print(countylist)"
   ]
  },
  {
   "cell_type": "code",
   "execution_count": 27,
   "metadata": {},
   "outputs": [
    {
     "name": "stdout",
     "output_type": "stream",
     "text": [
      "{'FIPS_Code': ['001', '003', '005', '510', '009', '011', '013', '015', '017', '019', '021', '023', '025', '027', '029', '031', '033', '035', '039', '037', '041', '043', '045', '047'], 'County_Seat': ['Cumberland', 'Annapolis', 'Towson', 'Baltimore City', 'Prince Frederick', 'Denton', 'Westminster', 'Elkton', 'La Plata', 'Cambridge', 'Frederick', 'Oakland', 'Bel Air', 'Ellicott City', 'Chestertown', 'Rockville', 'Upper Marlboro', 'Centreville', 'Princess Anne', 'Leonardtown', 'Easton', 'Hagerstown', 'Salisbury', 'Snow Hill'], 'Year_Established': ['1789', '1650', '1659', '1851', '1654', '1773', '1837', '1672', '1658', '1668', '1748', '1872', '1773', '1851', '1642', '1776', '1696', '1706', '1666', '1637', '1662', '1776', '1867', '1742'], 'Origin': ['Formed from part of Washington County.', \"Formed from part of St. Mary's County.\", 'Formed from unorganized territory', 'Founded in 1729. Detached in 1851 from Baltimore County', 'Formed as Patuxent County from unorganized territory. Renamed Calvert County in 1658', \"From parts of Dorchester County and Queen Anne's County\", 'From parts of Baltimore County and Frederick County', 'From parts of Baltimore County and Kent County', 'From unorganized territory', 'From unorganized territory', \"From part of Prince George's County\", 'From part of Allegany County', 'From part of Baltimore County', 'From parts of Anne Arundel County and Baltimore County', 'From unorganized territory', 'From part of Frederick County', 'From parts of Calvert County and Charles County', 'From parts of Talbot County', 'From unorganized territory.', 'From unorganized territory. Was named Potomac County between 1654 and 1658.', 'From part of Kent County', 'From part of Frederick County', 'From parts of Somerset County and Worcester County', 'From part of Somerset County'], 'Etymology': ['From the Lenape Indian word oolikhanna, which means \"beautiful stream\"', 'Anne Arundell was the maiden name of the wife of Cecil Calvert, 2nd Baron Baltimore. Between 1654 and 1658 it was known as Providence County by Puritan settlers', 'Cecil Calvert, 2nd Baron Baltimore, first proprietor of the Maryland colony', 'Cecil Calvert, 2nd Baron Baltimore, first proprietor of the Maryland colony', 'The Calvert family; prior to 1658 it was called Patuxent County, after the Patuxent Indians, a branch of the Algonquians', 'Lady Caroline Eden, daughter of Charles Calvert, 5th Baron Baltimore', 'Charles Carroll of Carrollton, a representative to the Continental Congress and signatory of the Declaration of Independence', 'Cecil is an Anglicized form of the first name of Cecil Calvert, 2nd Baron Baltimore', 'Charles Calvert, 3rd Baron Baltimore, second proprietor of the Maryland colony', 'Dorchester in Dorset, England; the Earl of Dorset was a friend of the Calvert family', 'Frederick Calvert, 6th Baron Baltimore, final proprietor of the Maryland colony', 'John Work Garrett, president of the Baltimore and Ohio Railroad', 'Henry Harford, illegitimate son of Frederick Calvert, 6th Baron Baltimore', 'John Eager Howard, an American Revolutionary War officer and governor of Maryland', 'The English county of Kent', 'Richard Montgomery, an American Revolutionary War general', 'Prince George of Denmark, the husband of Queen Anne of Great Britain', 'Anne, Queen of Great Britain', 'Mary, Lady Somerset, sister-in-law of Cecil Calvert, 2nd Baron Baltimore', 'The Virgin Mary, first county named in a colony intended to be a haven for Catholics', 'Grace, Lady Talbot, sister of Cecil Calvert, 2nd Baron Baltimore', 'George Washington, first President of the United States', 'The Wicomico River; in Lenape, wicko mekee indicated \"a place where houses are built,\" possibly in reference to a settlement', 'Mary Arundell, the wife of Sir John Somerset, son of Henry Somerset, 1st Marquess of Worcester, and sister of Anne Arundell, the wife of Cecil Calvert, 2nd Baron Baltimore'], 'del1': [nan, nan, nan, nan, nan, nan, nan, nan, nan, nan, nan, nan, nan, nan, nan, nan, nan, nan, nan, nan, nan, nan, nan, nan], 'del2': [nan, nan, nan, nan, nan, nan, nan, nan, nan, nan, nan, nan, nan, nan, nan, nan, nan, nan, nan, nan, nan, 'Link to image', nan, nan], 'Population': ['74,012', '550,488', '817,455', '621,342', '89,628', '32,718', '167,217', '101,696', '150,592', '32,551', '239,582', '29,854', '248,622', '299,430', '20,191', '1,004,709', '881,138', '48,595', '26,253', '108,987', '38,098', '149,180', '100,647', '51,578'], 'Area': ['430 sq mi(1,114 km2)', '588 sq mi(1,523 km2)', '682 sq mi(1,766 km2)', '92 sq mi(238 km2)', '345 sq mi(894 km2)', '326 sq mi(844 km2)', '452 sq mi(1,171 km2)', '418 sq mi(1,083 km2)', '643 sq mi(1,665 km2)', '540 sq mi(1,399 km2)', '667 sq mi(1,728 km2)', '656 sq mi(1,699 km2)', '527 sq mi(1,365 km2)', '254 sq mi(658 km2)', '414 sq mi(1,072 km2)', '507 sq mi(1,313 km2)', '498 sq mi(1,290 km2)', '510 sq mi(1,321 km2)', '611 sq mi(1,582 km2)', '611 sq mi(1,582 km2)', '477 sq mi(1,235 km2)', '468 sq mi(1,212 km2)', '400 sq mi(1,036 km2)', '695 sq mi(1,800 km2)'], 'del3': [nan, nan, nan, nan, nan, nan, nan, nan, nan, nan, nan, nan, nan, nan, nan, nan, nan, nan, nan, nan, nan, nan, nan, nan], 'County_Name': ['Allegany County', 'Anne Arundel County', 'Baltimore County', 'Baltimore City', 'Calvert County', 'Caroline County', 'Carroll County', 'Cecil County', 'Charles County', 'Dorchester County', 'Frederick County', 'Garrett County', 'Harford County', 'Howard County', 'Kent County', 'Montgomery County', \"Prince George's County\", \"Queen Anne's County\", 'Somerset County', \"St. Mary's County\", 'Talbot County', 'Washington County', 'Wicomico County', 'Worcester County']}\n"
     ]
    }
   ],
   "source": [
    "# add the County List as a new key/value to the County Info dictionary\n",
    "county_info['County_Name'] = countylist\n",
    "print(county_info)"
   ]
  },
  {
   "cell_type": "code",
   "execution_count": 28,
   "metadata": {},
   "outputs": [
    {
     "name": "stdout",
     "output_type": "stream",
     "text": [
      "['\"001\"', '\"003\"', '\"005\"', '\"510\"', '\"009\"', '\"011\"', '\"013\"', '\"015\"', '\"017\"', '\"019\"', '\"021\"', '\"023\"', '\"025\"', '\"027\"', '\"029\"', '\"031\"', '\"033\"', '\"035\"', '\"039\"', '\"037\"', '\"041\"', '\"043\"', '\"045\"', '\"047\"']\n"
     ]
    }
   ],
   "source": [
    "# Initialize the FIPS List\n",
    "fipslist = []\n",
    "\n",
    "# Put quotes around FIPS Code to force it to display as string in csv file and add to Fipslist\n",
    "\n",
    "for item in county_info['FIPS_Code']:\n",
    "    i = '\\\"' + item + '\\\"'\n",
    "    fipslist.append(i)\n",
    "\n",
    "print(fipslist) "
   ]
  },
  {
   "cell_type": "code",
   "execution_count": 29,
   "metadata": {},
   "outputs": [
    {
     "name": "stdout",
     "output_type": "stream",
     "text": [
      "{'FIPS_Code': ['\"001\"', '\"003\"', '\"005\"', '\"510\"', '\"009\"', '\"011\"', '\"013\"', '\"015\"', '\"017\"', '\"019\"', '\"021\"', '\"023\"', '\"025\"', '\"027\"', '\"029\"', '\"031\"', '\"033\"', '\"035\"', '\"039\"', '\"037\"', '\"041\"', '\"043\"', '\"045\"', '\"047\"'], 'County_Seat': ['Cumberland', 'Annapolis', 'Towson', 'Baltimore City', 'Prince Frederick', 'Denton', 'Westminster', 'Elkton', 'La Plata', 'Cambridge', 'Frederick', 'Oakland', 'Bel Air', 'Ellicott City', 'Chestertown', 'Rockville', 'Upper Marlboro', 'Centreville', 'Princess Anne', 'Leonardtown', 'Easton', 'Hagerstown', 'Salisbury', 'Snow Hill'], 'Year_Established': ['1789', '1650', '1659', '1851', '1654', '1773', '1837', '1672', '1658', '1668', '1748', '1872', '1773', '1851', '1642', '1776', '1696', '1706', '1666', '1637', '1662', '1776', '1867', '1742'], 'Origin': ['Formed from part of Washington County.', \"Formed from part of St. Mary's County.\", 'Formed from unorganized territory', 'Founded in 1729. Detached in 1851 from Baltimore County', 'Formed as Patuxent County from unorganized territory. Renamed Calvert County in 1658', \"From parts of Dorchester County and Queen Anne's County\", 'From parts of Baltimore County and Frederick County', 'From parts of Baltimore County and Kent County', 'From unorganized territory', 'From unorganized territory', \"From part of Prince George's County\", 'From part of Allegany County', 'From part of Baltimore County', 'From parts of Anne Arundel County and Baltimore County', 'From unorganized territory', 'From part of Frederick County', 'From parts of Calvert County and Charles County', 'From parts of Talbot County', 'From unorganized territory.', 'From unorganized territory. Was named Potomac County between 1654 and 1658.', 'From part of Kent County', 'From part of Frederick County', 'From parts of Somerset County and Worcester County', 'From part of Somerset County'], 'Etymology': ['From the Lenape Indian word oolikhanna, which means \"beautiful stream\"', 'Anne Arundell was the maiden name of the wife of Cecil Calvert, 2nd Baron Baltimore. Between 1654 and 1658 it was known as Providence County by Puritan settlers', 'Cecil Calvert, 2nd Baron Baltimore, first proprietor of the Maryland colony', 'Cecil Calvert, 2nd Baron Baltimore, first proprietor of the Maryland colony', 'The Calvert family; prior to 1658 it was called Patuxent County, after the Patuxent Indians, a branch of the Algonquians', 'Lady Caroline Eden, daughter of Charles Calvert, 5th Baron Baltimore', 'Charles Carroll of Carrollton, a representative to the Continental Congress and signatory of the Declaration of Independence', 'Cecil is an Anglicized form of the first name of Cecil Calvert, 2nd Baron Baltimore', 'Charles Calvert, 3rd Baron Baltimore, second proprietor of the Maryland colony', 'Dorchester in Dorset, England; the Earl of Dorset was a friend of the Calvert family', 'Frederick Calvert, 6th Baron Baltimore, final proprietor of the Maryland colony', 'John Work Garrett, president of the Baltimore and Ohio Railroad', 'Henry Harford, illegitimate son of Frederick Calvert, 6th Baron Baltimore', 'John Eager Howard, an American Revolutionary War officer and governor of Maryland', 'The English county of Kent', 'Richard Montgomery, an American Revolutionary War general', 'Prince George of Denmark, the husband of Queen Anne of Great Britain', 'Anne, Queen of Great Britain', 'Mary, Lady Somerset, sister-in-law of Cecil Calvert, 2nd Baron Baltimore', 'The Virgin Mary, first county named in a colony intended to be a haven for Catholics', 'Grace, Lady Talbot, sister of Cecil Calvert, 2nd Baron Baltimore', 'George Washington, first President of the United States', 'The Wicomico River; in Lenape, wicko mekee indicated \"a place where houses are built,\" possibly in reference to a settlement', 'Mary Arundell, the wife of Sir John Somerset, son of Henry Somerset, 1st Marquess of Worcester, and sister of Anne Arundell, the wife of Cecil Calvert, 2nd Baron Baltimore'], 'del1': [nan, nan, nan, nan, nan, nan, nan, nan, nan, nan, nan, nan, nan, nan, nan, nan, nan, nan, nan, nan, nan, nan, nan, nan], 'del2': [nan, nan, nan, nan, nan, nan, nan, nan, nan, nan, nan, nan, nan, nan, nan, nan, nan, nan, nan, nan, nan, 'Link to image', nan, nan], 'Population': ['74,012', '550,488', '817,455', '621,342', '89,628', '32,718', '167,217', '101,696', '150,592', '32,551', '239,582', '29,854', '248,622', '299,430', '20,191', '1,004,709', '881,138', '48,595', '26,253', '108,987', '38,098', '149,180', '100,647', '51,578'], 'Area': ['430 sq mi(1,114 km2)', '588 sq mi(1,523 km2)', '682 sq mi(1,766 km2)', '92 sq mi(238 km2)', '345 sq mi(894 km2)', '326 sq mi(844 km2)', '452 sq mi(1,171 km2)', '418 sq mi(1,083 km2)', '643 sq mi(1,665 km2)', '540 sq mi(1,399 km2)', '667 sq mi(1,728 km2)', '656 sq mi(1,699 km2)', '527 sq mi(1,365 km2)', '254 sq mi(658 km2)', '414 sq mi(1,072 km2)', '507 sq mi(1,313 km2)', '498 sq mi(1,290 km2)', '510 sq mi(1,321 km2)', '611 sq mi(1,582 km2)', '611 sq mi(1,582 km2)', '477 sq mi(1,235 km2)', '468 sq mi(1,212 km2)', '400 sq mi(1,036 km2)', '695 sq mi(1,800 km2)'], 'del3': [nan, nan, nan, nan, nan, nan, nan, nan, nan, nan, nan, nan, nan, nan, nan, nan, nan, nan, nan, nan, nan, nan, nan, nan], 'County_Name': ['Allegany County', 'Anne Arundel County', 'Baltimore County', 'Baltimore City', 'Calvert County', 'Caroline County', 'Carroll County', 'Cecil County', 'Charles County', 'Dorchester County', 'Frederick County', 'Garrett County', 'Harford County', 'Howard County', 'Kent County', 'Montgomery County', \"Prince George's County\", \"Queen Anne's County\", 'Somerset County', \"St. Mary's County\", 'Talbot County', 'Washington County', 'Wicomico County', 'Worcester County']}\n"
     ]
    }
   ],
   "source": [
    "county_info['FIPS_Code'] = fipslist\n",
    "print(county_info)"
   ]
  },
  {
   "cell_type": "code",
   "execution_count": 30,
   "metadata": {},
   "outputs": [
    {
     "data": {
      "text/html": [
       "<div>\n",
       "<style scoped>\n",
       "    .dataframe tbody tr th:only-of-type {\n",
       "        vertical-align: middle;\n",
       "    }\n",
       "\n",
       "    .dataframe tbody tr th {\n",
       "        vertical-align: top;\n",
       "    }\n",
       "\n",
       "    .dataframe thead th {\n",
       "        text-align: right;\n",
       "    }\n",
       "</style>\n",
       "<table border=\"1\" class=\"dataframe\">\n",
       "  <thead>\n",
       "    <tr style=\"text-align: right;\">\n",
       "      <th></th>\n",
       "      <th>County_Name</th>\n",
       "      <th>FIPS_Code</th>\n",
       "      <th>County_Seat</th>\n",
       "      <th>Year_Established</th>\n",
       "      <th>Origin</th>\n",
       "      <th>Etymology</th>\n",
       "      <th>Population</th>\n",
       "      <th>Area</th>\n",
       "    </tr>\n",
       "  </thead>\n",
       "  <tbody>\n",
       "    <tr>\n",
       "      <th>0</th>\n",
       "      <td>Allegany County</td>\n",
       "      <td>\"001\"</td>\n",
       "      <td>Cumberland</td>\n",
       "      <td>1789</td>\n",
       "      <td>Formed from part of Washington County.</td>\n",
       "      <td>From the Lenape Indian word oolikhanna, which ...</td>\n",
       "      <td>74,012</td>\n",
       "      <td>430 sq mi(1,114 km2)</td>\n",
       "    </tr>\n",
       "    <tr>\n",
       "      <th>1</th>\n",
       "      <td>Anne Arundel County</td>\n",
       "      <td>\"003\"</td>\n",
       "      <td>Annapolis</td>\n",
       "      <td>1650</td>\n",
       "      <td>Formed from part of St. Mary's County.</td>\n",
       "      <td>Anne Arundell was the maiden name of the wife ...</td>\n",
       "      <td>550,488</td>\n",
       "      <td>588 sq mi(1,523 km2)</td>\n",
       "    </tr>\n",
       "    <tr>\n",
       "      <th>2</th>\n",
       "      <td>Baltimore County</td>\n",
       "      <td>\"005\"</td>\n",
       "      <td>Towson</td>\n",
       "      <td>1659</td>\n",
       "      <td>Formed from unorganized territory</td>\n",
       "      <td>Cecil Calvert, 2nd Baron Baltimore, first prop...</td>\n",
       "      <td>817,455</td>\n",
       "      <td>682 sq mi(1,766 km2)</td>\n",
       "    </tr>\n",
       "    <tr>\n",
       "      <th>3</th>\n",
       "      <td>Baltimore City</td>\n",
       "      <td>\"510\"</td>\n",
       "      <td>Baltimore City</td>\n",
       "      <td>1851</td>\n",
       "      <td>Founded in 1729. Detached in 1851 from Baltimo...</td>\n",
       "      <td>Cecil Calvert, 2nd Baron Baltimore, first prop...</td>\n",
       "      <td>621,342</td>\n",
       "      <td>92 sq mi(238 km2)</td>\n",
       "    </tr>\n",
       "    <tr>\n",
       "      <th>4</th>\n",
       "      <td>Calvert County</td>\n",
       "      <td>\"009\"</td>\n",
       "      <td>Prince Frederick</td>\n",
       "      <td>1654</td>\n",
       "      <td>Formed as Patuxent County from unorganized ter...</td>\n",
       "      <td>The Calvert family; prior to 1658 it was calle...</td>\n",
       "      <td>89,628</td>\n",
       "      <td>345 sq mi(894 km2)</td>\n",
       "    </tr>\n",
       "  </tbody>\n",
       "</table>\n",
       "</div>"
      ],
      "text/plain": [
       "           County_Name FIPS_Code       County_Seat Year_Established  \\\n",
       "0      Allegany County     \"001\"        Cumberland             1789   \n",
       "1  Anne Arundel County     \"003\"         Annapolis             1650   \n",
       "2     Baltimore County     \"005\"            Towson             1659   \n",
       "3       Baltimore City     \"510\"    Baltimore City             1851   \n",
       "4       Calvert County     \"009\"  Prince Frederick             1654   \n",
       "\n",
       "                                              Origin  \\\n",
       "0             Formed from part of Washington County.   \n",
       "1             Formed from part of St. Mary's County.   \n",
       "2                  Formed from unorganized territory   \n",
       "3  Founded in 1729. Detached in 1851 from Baltimo...   \n",
       "4  Formed as Patuxent County from unorganized ter...   \n",
       "\n",
       "                                           Etymology Population  \\\n",
       "0  From the Lenape Indian word oolikhanna, which ...     74,012   \n",
       "1  Anne Arundell was the maiden name of the wife ...    550,488   \n",
       "2  Cecil Calvert, 2nd Baron Baltimore, first prop...    817,455   \n",
       "3  Cecil Calvert, 2nd Baron Baltimore, first prop...    621,342   \n",
       "4  The Calvert family; prior to 1658 it was calle...     89,628   \n",
       "\n",
       "                   Area  \n",
       "0  430 sq mi(1,114 km2)  \n",
       "1  588 sq mi(1,523 km2)  \n",
       "2  682 sq mi(1,766 km2)  \n",
       "3     92 sq mi(238 km2)  \n",
       "4    345 sq mi(894 km2)  "
      ]
     },
     "execution_count": 30,
     "metadata": {},
     "output_type": "execute_result"
    }
   ],
   "source": [
    "# create a dataframe from dictionary info using selected columns\n",
    "mdcounty_df = pd.DataFrame(data=county_info, columns=['County_Name','FIPS_Code', 'County_Seat', 'Year_Established', 'Origin', 'Etymology', 'Population', 'Area'])\n",
    "mdcounty_df.head()"
   ]
  },
  {
   "cell_type": "code",
   "execution_count": 31,
   "metadata": {},
   "outputs": [],
   "source": [
    "# create a new file and save dataframe contents\n",
    "mdcounty_df.to_csv('mdcountyinfo.csv', index=False)"
   ]
  },
  {
   "cell_type": "code",
   "execution_count": null,
   "metadata": {},
   "outputs": [],
   "source": []
  }
 ],
 "metadata": {
  "kernelspec": {
   "display_name": "Python 3",
   "language": "python",
   "name": "python3"
  },
  "language_info": {
   "codemirror_mode": {
    "name": "ipython",
    "version": 3
   },
   "file_extension": ".py",
   "mimetype": "text/x-python",
   "name": "python",
   "nbconvert_exporter": "python",
   "pygments_lexer": "ipython3",
   "version": "3.8.3"
  }
 },
 "nbformat": 4,
 "nbformat_minor": 4
}
